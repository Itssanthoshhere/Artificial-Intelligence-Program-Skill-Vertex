{
 "cells": [
  {
   "cell_type": "markdown",
   "id": "35aa6d85",
   "metadata": {},
   "source": [
    "🧠 𝐄𝐱𝐩𝐥𝐨𝐫𝐢𝐧𝐠 𝐍𝐋𝐏 𝐰𝐢𝐭𝐡 𝐬𝐩𝐚𝐂𝐲 - 𝐅𝐫𝐨𝐦 𝐃𝐞𝐩𝐞𝐧𝐝𝐞𝐧𝐜𝐲 𝐏𝐚𝐫𝐬𝐢𝐧𝐠 𝐭𝐨 𝐍𝐚𝐦𝐞𝐝 𝐄𝐧𝐭𝐢𝐭𝐲 𝐑𝐞𝐜𝐨𝐠𝐧𝐢𝐭𝐢𝐨𝐧"
   ]
  },
  {
   "cell_type": "markdown",
   "id": "84912753",
   "metadata": {},
   "source": [
    "#### Installing and Loading spaCy Model:"
   ]
  },
  {
   "cell_type": "code",
   "execution_count": 19,
   "id": "4b4b705a",
   "metadata": {},
   "outputs": [
    {
     "name": "stdout",
     "output_type": "stream",
     "text": [
      "\u001b[38;5;2m✔ Download and installation successful\u001b[0m\n",
      "You can now load the package via spacy.load('en_core_web_sm')\n",
      "\u001b[38;5;3m⚠ Restart to reload dependencies\u001b[0m\n",
      "If you are in a Jupyter or Colab notebook, you may need to restart Python in\n",
      "order to load all the package's dependencies. You can do this by selecting the\n",
      "'Restart kernel' or 'Restart runtime' option.\n"
     ]
    }
   ],
   "source": [
    "import spacy.cli\n",
    "spacy.cli.download(\"en_core_web_sm\")"
   ]
  },
  {
   "cell_type": "code",
   "execution_count": 20,
   "id": "5beaaa97",
   "metadata": {},
   "outputs": [],
   "source": [
    "import spacy\n",
    "nlp = spacy.load('en_core_web_sm')"
   ]
  },
  {
   "cell_type": "code",
   "execution_count": 21,
   "id": "1e5f6c98",
   "metadata": {},
   "outputs": [
    {
     "name": "stdout",
     "output_type": "stream",
     "text": [
      "['Artifical', 'intelligence', 'is', 'a', 'mimic', 'of', 'human', 'being', '.']\n"
     ]
    }
   ],
   "source": [
    "text = (\"Artifical intelligence is a mimic of human being.\")\n",
    "i = nlp(text)\n",
    "print([token.text for token in i])"
   ]
  },
  {
   "cell_type": "code",
   "execution_count": 22,
   "id": "f2e2b964",
   "metadata": {},
   "outputs": [
    {
     "data": {
      "text/plain": [
       "['tok2vec', 'tagger', 'parser', 'attribute_ruler', 'lemmatizer', 'ner']"
      ]
     },
     "execution_count": 22,
     "metadata": {},
     "output_type": "execute_result"
    }
   ],
   "source": [
    "nlp.pipe_names"
   ]
  },
  {
   "cell_type": "code",
   "execution_count": 23,
   "id": "6a872e21",
   "metadata": {},
   "outputs": [
    {
     "data": {
      "text/plain": [
       "['tagger', 'parser', 'tok2vec', 'attribute_ruler', 'lemmatizer']"
      ]
     },
     "execution_count": 23,
     "metadata": {},
     "output_type": "execute_result"
    }
   ],
   "source": [
    "nlp.disable_pipes(\"tagger\", \"parser\", \"tok2vec\", \"attribute_ruler\", \"lemmatizer\")"
   ]
  },
  {
   "cell_type": "code",
   "execution_count": 24,
   "id": "72721447",
   "metadata": {
    "scrolled": true
   },
   "outputs": [
    {
     "data": {
      "text/plain": [
       "['ner']"
      ]
     },
     "execution_count": 24,
     "metadata": {},
     "output_type": "execute_result"
    }
   ],
   "source": [
    "nlp.pipe_names"
   ]
  },
  {
   "cell_type": "markdown",
   "id": "93db76c5",
   "metadata": {},
   "source": [
    "#### 6. Dependency Parsing:"
   ]
  },
  {
   "cell_type": "code",
   "execution_count": 25,
   "id": "97c77679",
   "metadata": {},
   "outputs": [
    {
     "name": "stdout",
     "output_type": "stream",
     "text": [
      "Its --> poss\n",
      "a --> det\n",
      "new --> amod\n",
      "field --> nsubj\n",
      "of --> prep\n",
      "study --> pobj\n",
      "focusing --> ROOT\n",
      "on --> prep\n",
      "making --> pcomp\n",
      "computers --> dative\n",
      "smart --> advmod\n",
      "- --> punct\n",
      "performing --> amod\n",
      "tasks --> dobj\n",
      "without --> prep\n",
      "any --> det\n",
      "human --> amod\n",
      "instructions --> pobj\n",
      "and --> cc\n",
      "intervention --> conj\n",
      ". --> punct\n"
     ]
    }
   ],
   "source": [
    "for token in doc:\n",
    "    print(token.text, \"-->\", token.dep_)"
   ]
  },
  {
   "cell_type": "code",
   "execution_count": 26,
   "id": "cce26531",
   "metadata": {},
   "outputs": [
    {
     "data": {
      "text/plain": [
       "'possession modifier'"
      ]
     },
     "execution_count": 26,
     "metadata": {},
     "output_type": "execute_result"
    }
   ],
   "source": [
    "spacy.explain('poss')"
   ]
  },
  {
   "cell_type": "markdown",
   "id": "ee9c75c4",
   "metadata": {},
   "source": [
    "Output Explanation:\n",
    " - poss: Possessive modifier\n",
    " - det: Determiner\n",
    " - amod: Adjectival modifier\n",
    " - nsubj: Nominal subject\n",
    " - prep: Prepositional modifier\n",
    " - pobj: Object of a preposition\n",
    " - ROOT: The root of the sentence (main verb)\n",
    " - pcomp: Complement of a preposition\n",
    " - dative: Indirect object\n",
    " - advmod: Adverbial modifier\n",
    " - punct: Punctuation\n",
    " - dobj: Direct object\n",
    " - cc: Coordinating conjunction\n",
    " - conj: Conjunct (connected by a coordinating conjunction)"
   ]
  },
  {
   "cell_type": "markdown",
   "id": "7286f1fd",
   "metadata": {},
   "source": [
    "#### 7. POS Tagging:"
   ]
  },
  {
   "cell_type": "code",
   "execution_count": 27,
   "id": "4d7ae8dc",
   "metadata": {},
   "outputs": [
    {
     "name": "stdout",
     "output_type": "stream",
     "text": [
      "It --> 95\n",
      "is --> 87\n",
      "a --> 90\n",
      "new --> 84\n",
      "field --> 92\n",
      "of --> 85\n",
      "study --> 92\n",
      "focusing --> 100\n",
      "on --> 85\n",
      "making --> 100\n",
      "computers --> 92\n",
      "smart --> 84\n",
      "- --> 97\n",
      "performing --> 100\n",
      "tasks --> 92\n",
      "without --> 85\n",
      "any --> 90\n",
      "human --> 84\n",
      "instructions --> 92\n",
      "and --> 89\n",
      "intervention --> 92\n",
      ". --> 97\n"
     ]
    }
   ],
   "source": [
    "import spacy\n",
    "\n",
    "# Load the SpaCy model\n",
    "nlp = spacy.load(\"en_core_web_sm\")\n",
    "\n",
    "# Process the input text\n",
    "doc = nlp(\"It is a new field of study focusing on making computers smart - performing tasks without any human instructions and intervention.\")\n",
    "\n",
    "# Print each token and its part of speech as an integer\n",
    "for token in doc:\n",
    "    print(token.text, '-->', token.pos)\n"
   ]
  },
  {
   "cell_type": "code",
   "execution_count": 28,
   "id": "34183be5",
   "metadata": {},
   "outputs": [
    {
     "name": "stdout",
     "output_type": "stream",
     "text": [
      "Its --> PRON\n",
      "a --> DET\n",
      "new --> ADJ\n",
      "field --> NOUN\n",
      "of --> ADP\n",
      "study --> NOUN\n",
      "focusing --> VERB\n",
      "on --> ADP\n",
      "making --> VERB\n",
      "computers --> NOUN\n",
      "smart --> ADJ\n",
      "- --> PUNCT\n",
      "performing --> VERB\n",
      "tasks --> NOUN\n",
      "without --> ADP\n",
      "any --> DET\n",
      "human --> ADJ\n",
      "instructions --> NOUN\n",
      "and --> CCONJ\n",
      "intervention --> NOUN\n",
      ". --> PUNCT\n"
     ]
    }
   ],
   "source": [
    "import spacy\n",
    "\n",
    "# Assuming you've successfully loaded the model\n",
    "nlp = spacy.load(\"en_core_web_sm\")\n",
    "\n",
    "# The input text\n",
    "doc = nlp(\"Its a new field of study focusing on making computers smart - performing tasks without any human instructions and intervention.\")\n",
    "\n",
    "# Loop through the tokens in the doc\n",
    "for token in doc:\n",
    "    print(token.text, '-->', token.pos_)\n"
   ]
  },
  {
   "cell_type": "code",
   "execution_count": 29,
   "id": "dc8106ec",
   "metadata": {},
   "outputs": [
    {
     "data": {
      "text/plain": [
       "'pronoun'"
      ]
     },
     "execution_count": 29,
     "metadata": {},
     "output_type": "execute_result"
    }
   ],
   "source": [
    "spacy.explain('PRON')"
   ]
  },
  {
   "cell_type": "markdown",
   "id": "063d68e1",
   "metadata": {},
   "source": [
    "Common POS Tags:\n",
    " - NOUN: Noun (e.g., \"field\", \"computers\")\n",
    " - VERB: Verb (e.g., \"focusing\", \"making\")\n",
    " - ADJ: Adjective (e.g., \"new\", \"smart\")\n",
    " - DET: Determiner (e.g., \"a\", \"any\")\n",
    " - PRON: Pronoun (e.g., \"Its\")\n",
    " - ADP: Adposition (e.g., \"of\", \"on\")\n",
    " - CCONJ: Coordinating conjunction (e.g., \"and\")\n",
    " - PUNCT: Punctuation (e.g., \"-\", \".\")"
   ]
  },
  {
   "cell_type": "markdown",
   "id": "cace6d02",
   "metadata": {},
   "source": [
    "#### 8. Named Entity Recognition:"
   ]
  },
  {
   "cell_type": "code",
   "execution_count": 30,
   "id": "cbe0b953",
   "metadata": {},
   "outputs": [
    {
     "name": "stdout",
     "output_type": "stream",
     "text": [
      "Steve Jobs PERSON\n",
      "the Macworld Conference ORG\n",
      "San Francisco GPE\n",
      "California GPE\n"
     ]
    }
   ],
   "source": [
    "import spacy\n",
    "\n",
    "# Load the spaCy model\n",
    "nlp = spacy.load('en_core_web_sm')\n",
    "\n",
    "# Process the text\n",
    "t = nlp(\"Steve Jobs introduced iPhone at the Macworld Conference in San Francisco, California\")\n",
    "\n",
    "# Print the named entities and their labels\n",
    "for ent in t.ents:\n",
    "    print(ent.text, ent.label_)"
   ]
  },
  {
   "cell_type": "code",
   "execution_count": 31,
   "id": "c0a1b49b",
   "metadata": {},
   "outputs": [
    {
     "data": {
      "text/plain": [
       "'Countries, cities, states'"
      ]
     },
     "execution_count": 31,
     "metadata": {},
     "output_type": "execute_result"
    }
   ],
   "source": [
    "spacy.explain('GPE')"
   ]
  },
  {
   "cell_type": "markdown",
   "id": "36553bd2",
   "metadata": {},
   "source": [
    "Explanation of Entity Labels:\n",
    " - PERSON: Refers to a person, real or fictional (e.g., \"Steve Jobs\").\n",
    " - PRODUCT: Refers to products (e.g., \"iPhone\").\n",
    " - EVENT: Refers to named events (e.g., \"Macworld Conference\").\n",
    " - GPE: Refers to countries, cities, states (e.g., \"San Francisco,\" \"California\")."
   ]
  }
 ],
 "metadata": {
  "kernelspec": {
   "display_name": "Python 3 (ipykernel)",
   "language": "python",
   "name": "python3"
  },
  "language_info": {
   "codemirror_mode": {
    "name": "ipython",
    "version": 3
   },
   "file_extension": ".py",
   "mimetype": "text/x-python",
   "name": "python",
   "nbconvert_exporter": "python",
   "pygments_lexer": "ipython3",
   "version": "3.11.4"
  }
 },
 "nbformat": 4,
 "nbformat_minor": 5
}
