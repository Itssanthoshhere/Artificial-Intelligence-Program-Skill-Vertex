{
 "cells": [
  {
   "cell_type": "markdown",
   "id": "b09e6496",
   "metadata": {},
   "source": [
    "🛠️ 𝐓𝐞𝐱𝐭 𝐏𝐫𝐞𝐩𝐫𝐨𝐜𝐞𝐬𝐬𝐢𝐧𝐠 𝐰𝐢𝐭𝐡 𝐍𝐋𝐓𝐊 - 𝐅𝐫𝐨𝐦 𝐓𝐨𝐤𝐞𝐧𝐢𝐳𝐢𝐧𝐠 𝐭𝐨 𝐓𝐚𝐠𝐠𝐢𝐧𝐠 📚"
   ]
  },
  {
   "cell_type": "code",
   "execution_count": 49,
   "id": "dd85c31f",
   "metadata": {},
   "outputs": [],
   "source": [
    "text = 'Artificial Intelligence refers to a set of concepts, technologies, and methods that aim at making computers think and learn like humans. It is a new field of study focusing on making computers smart - performing tasks without any human instructions and intervention. The term was coined by John McCarthy in 1955.'"
   ]
  },
  {
   "cell_type": "code",
   "execution_count": 50,
   "id": "9a4f889e",
   "metadata": {},
   "outputs": [
    {
     "name": "stdout",
     "output_type": "stream",
     "text": [
      "Artificial Intelligence refers to a set of concepts, technologies, and methods that aim at making computers think and learn like humans. It is a new field of study focusing on making computers smart - performing tasks without any human instructions and intervention. The term was coined by John McCarthy in 1955.\n"
     ]
    }
   ],
   "source": [
    "print(text)"
   ]
  },
  {
   "cell_type": "markdown",
   "id": "7a71e976",
   "metadata": {},
   "source": [
    "#### 1. Text Segmentation"
   ]
  },
  {
   "cell_type": "markdown",
   "id": "60c9ed05",
   "metadata": {},
   "source": [
    " - Sentence Tokenization: Divided the text into individual sentences.\n",
    " "
   ]
  },
  {
   "cell_type": "code",
   "execution_count": 51,
   "id": "f0d7a8cb",
   "metadata": {},
   "outputs": [
    {
     "name": "stderr",
     "output_type": "stream",
     "text": [
      "[nltk_data] Downloading package punkt to\n",
      "[nltk_data]     C:\\Users\\santh\\AppData\\Roaming\\nltk_data...\n",
      "[nltk_data]   Package punkt is already up-to-date!\n"
     ]
    },
    {
     "data": {
      "text/plain": [
       "True"
      ]
     },
     "execution_count": 51,
     "metadata": {},
     "output_type": "execute_result"
    }
   ],
   "source": [
    "import nltk\n",
    "nltk.download('punkt')"
   ]
  },
  {
   "cell_type": "code",
   "execution_count": 52,
   "id": "4886cf9a",
   "metadata": {
    "scrolled": true
   },
   "outputs": [
    {
     "name": "stdout",
     "output_type": "stream",
     "text": [
      "Sentence after tokenizing:\n",
      "\n",
      "['Artificial Intelligence refers to a set of concepts, technologies, and methods that aim at making computers think and learn like humans.', 'It is a new field of study focusing on making computers smart - performing tasks without any human instructions and intervention.', 'The term was coined by John McCarthy in 1955.']\n"
     ]
    }
   ],
   "source": [
    "from nltk.tokenize import sent_tokenize\n",
    "sent_tk = sent_tokenize(text)\n",
    "print(\"Sentence after tokenizing:\\n\")\n",
    "print(sent_tk)"
   ]
  },
  {
   "cell_type": "markdown",
   "id": "671fad17",
   "metadata": {},
   "source": [
    "#### Word Tokenizer\n",
    "- Word Tokenization: Split the text into individual words."
   ]
  },
  {
   "cell_type": "code",
   "execution_count": 53,
   "id": "f688c381",
   "metadata": {},
   "outputs": [
    {
     "name": "stdout",
     "output_type": "stream",
     "text": [
      "Words\n",
      "\n",
      "['Artificial', 'Intelligence', 'refers', 'to', 'a', 'set', 'of', 'concepts', ',', 'technologies', ',', 'and', 'methods', 'that', 'aim', 'at', 'making', 'computers', 'think', 'and', 'learn', 'like', 'humans', '.', 'It', 'is', 'a', 'new', 'field', 'of', 'study', 'focusing', 'on', 'making', 'computers', 'smart', '-', 'performing', 'tasks', 'without', 'any', 'human', 'instructions', 'and', 'intervention', '.', 'The', 'term', 'was', 'coined', 'by', 'John', 'McCarthy', 'in', '1955', '.']\n"
     ]
    }
   ],
   "source": [
    "from nltk.tokenize import word_tokenize\n",
    "word_tk = word_tokenize(text)\n",
    "print(\"Words\\n\")\n",
    "print(word_tk)"
   ]
  },
  {
   "cell_type": "markdown",
   "id": "0950f0d9",
   "metadata": {},
   "source": [
    "#### 2. Stop Words Removal\n",
    " - Removed common stop words from the text in both English and French.\n"
   ]
  },
  {
   "cell_type": "code",
   "execution_count": 54,
   "id": "ddbd76f6",
   "metadata": {},
   "outputs": [
    {
     "name": "stderr",
     "output_type": "stream",
     "text": [
      "[nltk_data] Downloading package stopwords to\n",
      "[nltk_data]     C:\\Users\\santh\\AppData\\Roaming\\nltk_data...\n",
      "[nltk_data]   Package stopwords is already up-to-date!\n"
     ]
    },
    {
     "data": {
      "text/plain": [
       "True"
      ]
     },
     "execution_count": 54,
     "metadata": {},
     "output_type": "execute_result"
    }
   ],
   "source": [
    "import nltk\n",
    "nltk.download('stopwords')"
   ]
  },
  {
   "cell_type": "code",
   "execution_count": 55,
   "id": "6decc814",
   "metadata": {},
   "outputs": [
    {
     "name": "stdout",
     "output_type": "stream",
     "text": [
      "Stopwords:\n",
      "\n",
      "{\"doesn't\", 'theirs', 'what', 'further', 'for', 'is', 'few', 'our', 'here', \"haven't\", 'hasn', 'same', 'won', 'd', \"you're\", \"wasn't\", 'and', 'which', 'has', 'about', 'when', \"couldn't\", 'shouldn', 'they', 'more', \"that'll\", 'herself', 's', 'him', 'up', 'll', 'itself', 't', 'to', 'ma', 'doing', 'its', 'by', 'their', 'nor', 'where', 'was', 'the', 'only', 'do', 'through', 'over', \"it's\", 'there', 'a', 'both', 'will', 'because', 'his', 'should', 'some', \"weren't\", 'under', 'off', 're', 'that', 'while', 'doesn', 'weren', 'ours', 'shan', 'with', 'were', 'very', \"needn't\", 'be', 'of', 'your', 'her', 'wouldn', 'most', 'yours', 'an', 'in', \"hasn't\", \"isn't\", 'needn', \"you've\", 'not', 'couldn', 'from', \"don't\", 'aren', \"shan't\", 'my', \"she's\", 'he', 'mustn', 'himself', 'just', 'didn', 'wasn', 'again', 'am', 'on', 'don', 'before', 'been', 'at', 'any', 'other', \"hadn't\", 'had', 'myself', 've', 'does', 'but', 'these', 'y', 'down', \"didn't\", 'are', 'all', 'o', 'we', 'if', 'as', 'hers', 'm', \"won't\", 'below', 'once', 'haven', 'you', 'yourself', 'this', 'isn', 'yourselves', 'against', 'those', 'how', 'between', 'them', 'during', 'themselves', 'into', 'me', \"mightn't\", 'then', 'such', 'now', 'why', 'who', 'no', \"you'll\", 'so', 'after', 'out', 'too', 'ourselves', 'than', 'whom', \"wouldn't\", 'have', 'ain', 'own', 'each', 'did', 'she', 'being', \"aren't\", 'i', \"you'd\", 'above', 'can', 'or', \"should've\", 'hadn', \"shouldn't\", 'mightn', 'it', \"mustn't\", 'until', 'having'}\n"
     ]
    }
   ],
   "source": [
    "from nltk.corpus import stopwords\n",
    "\n",
    "sw = set(stopwords.words(\"english\"))\n",
    "print('Stopwords:\\n')\n",
    "print(sw)"
   ]
  },
  {
   "cell_type": "code",
   "execution_count": 56,
   "id": "72fedcfc",
   "metadata": {},
   "outputs": [
    {
     "name": "stdout",
     "output_type": "stream",
     "text": [
      "Stopwords:\n",
      "\n",
      "{'êtes', 'furent', 'serez', 'avons', 'en', 'étée', 'qui', 'serai', 'par', 'étants', 'étés', 'auriez', 'eûmes', 'd', 'étions', 'serions', 'même', 'eussions', 'avec', 'ayant', 'ces', 'aurez', 's', 'eurent', 'pas', 'une', 'votre', 'te', 't', 'sont', 'fussions', 'eues', 'ma', 'lui', 'et', 'es', 'mon', 'ai', 'eus', 'aurais', 'seraient', 'avions', 'vous', 'soyons', 'ayantes', 'nous', 'fut', 'eussent', 'j', 'avait', 'le', 'ton', 'vos', 'étant', 'fus', 'aurai', 'fussiez', 'sa', 'à', 'sera', 'auraient', 'ayez', 'leur', 'soient', 'eût', 'je', 'ont', 'moi', 'été', 'auront', 'ce', 'un', 'aie', 'eu', 'eusses', 'est', 'dans', 'les', 'ait', 'ayons', 'nos', 'tes', 'eue', 'notre', 'était', 'eut', 'avais', 'fusses', 'on', 'fussent', 'serait', 'seras', 'du', 'eusse', 'soit', 'aurions', 'n', 'pour', 'ils', 'qu', 'y', 'étées', 'ayante', 'eux', 'fût', 'seriez', 'il', 'sur', 'auras', 'serons', 'as', 'm', 'sois', 'aviez', 'ne', 'eussiez', 'que', 'sommes', 'fusse', 'serais', 'étais', 'eûtes', 'fûtes', 'aies', 'tu', 'aura', 'aient', 'étante', 'mais', 'son', 'ayants', 'la', 'aurait', 'me', 'l', 'ou', 'de', 'avaient', 'ses', 'au', 'seront', 'étaient', 'mes', 'aurons', 'c', 'soyez', 'fûmes', 'aux', 'se', 'étiez', 'elle', 'suis', 'étantes', 'avez', 'des', 'ta', 'toi'}\n"
     ]
    }
   ],
   "source": [
    "sw = set(stopwords.words(\"french\"))\n",
    "print('Stopwords:\\n')\n",
    "print(sw)"
   ]
  },
  {
   "cell_type": "code",
   "execution_count": 57,
   "id": "289bdd61",
   "metadata": {},
   "outputs": [
    {
     "name": "stdout",
     "output_type": "stream",
     "text": [
      "The text after removal of stop words:\n",
      "\n",
      "['Artificial', 'Intelligence', 'refers', 'to', 'a', 'set', 'of', 'concepts', ',', 'technologies', ',', 'and', 'methods', 'that', 'aim', 'at', 'making', 'computers', 'think', 'and', 'learn', 'like', 'humans', '.', 'It', 'is', 'a', 'new', 'field', 'of', 'study', 'focusing', 'making', 'computers', 'smart', '-', 'performing', 'tasks', 'without', 'any', 'human', 'instructions', 'and', 'intervention', '.', 'The', 'term', 'was', 'coined', 'by', 'John', 'McCarthy', 'in', '1955', '.']\n"
     ]
    }
   ],
   "source": [
    "filtered_words = [w for w in word_tk if not w in sw]\n",
    "print('The text after removal of stop words:\\n')\n",
    "print(filtered_words)"
   ]
  },
  {
   "cell_type": "markdown",
   "id": "14a51be3",
   "metadata": {},
   "source": [
    "#### 3. Stemming\n",
    " - Applied Porter Stemming to reduce words to their base or root form."
   ]
  },
  {
   "cell_type": "code",
   "execution_count": 58,
   "id": "7662e0ca",
   "metadata": {},
   "outputs": [
    {
     "name": "stdout",
     "output_type": "stream",
     "text": [
      "Filtered text after stemming:\n",
      "\n",
      "['artifici', 'intellig', 'refer', 'to', 'a', 'set', 'of', 'concept', ',', 'technolog', ',', 'and', 'method', 'that', 'aim', 'at', 'make', 'comput', 'think', 'and', 'learn', 'like', 'human', '.', 'it', 'is', 'a', 'new', 'field', 'of', 'studi', 'focus', 'make', 'comput', 'smart', '-', 'perform', 'task', 'without', 'ani', 'human', 'instruct', 'and', 'intervent', '.', 'the', 'term', 'wa', 'coin', 'by', 'john', 'mccarthi', 'in', '1955', '.']\n"
     ]
    }
   ],
   "source": [
    "from nltk.stem import PorterStemmer\n",
    "\n",
    "port_stem = PorterStemmer()\n",
    "\n",
    "stemmed_words = []\n",
    "for w in filtered_words:\n",
    "    stemmed_words.append(port_stem.stem(w))\n",
    "print(\"Filtered text after stemming:\\n\")\n",
    "print(stemmed_words)"
   ]
  },
  {
   "cell_type": "markdown",
   "id": "4c696cb1",
   "metadata": {},
   "source": [
    "#### 4. Lemmatization\n",
    " - Converted words to their dictionary forms using WordNet Lemmatizer."
   ]
  },
  {
   "cell_type": "code",
   "execution_count": 59,
   "id": "8b63f8aa",
   "metadata": {},
   "outputs": [
    {
     "name": "stderr",
     "output_type": "stream",
     "text": [
      "[nltk_data] Downloading package wordnet to\n",
      "[nltk_data]     C:\\Users\\santh\\AppData\\Roaming\\nltk_data...\n",
      "[nltk_data]   Package wordnet is already up-to-date!\n"
     ]
    },
    {
     "data": {
      "text/plain": [
       "True"
      ]
     },
     "execution_count": 59,
     "metadata": {},
     "output_type": "execute_result"
    }
   ],
   "source": [
    "import nltk\n",
    "nltk.download('wordnet')"
   ]
  },
  {
   "cell_type": "code",
   "execution_count": 60,
   "id": "7734d66a",
   "metadata": {},
   "outputs": [
    {
     "name": "stdout",
     "output_type": "stream",
     "text": [
      "Filtered text after Lemmatization:\n",
      "\n",
      "['Artificial', 'Intelligence', 'refers', 'to', 'a', 'set', 'of', 'concept', ',', 'technology', ',', 'and', 'method', 'that', 'aim', 'at', 'making', 'computer', 'think', 'and', 'learn', 'like', 'human', '.', 'It', 'is', 'a', 'new', 'field', 'of', 'study', 'focusing', 'making', 'computer', 'smart', '-', 'performing', 'task', 'without', 'any', 'human', 'instruction', 'and', 'intervention', '.', 'The', 'term', 'wa', 'coined', 'by', 'John', 'McCarthy', 'in', '1955', '.']\n"
     ]
    }
   ],
   "source": [
    "from nltk.stem.wordnet import WordNetLemmatizer\n",
    "\n",
    "lem = WordNetLemmatizer()\n",
    "lemm_words = []\n",
    "\n",
    "for i in range(len(filtered_words)):\n",
    "    lemm_words.append(lem.lemmatize(filtered_words[i]))\n",
    "    \n",
    "print(\"Filtered text after Lemmatization:\\n\")\n",
    "print(lemm_words)"
   ]
  },
  {
   "cell_type": "markdown",
   "id": "fa98bdf8",
   "metadata": {},
   "source": [
    "#### 5. Parts of Speech Tagging (POS Tagging)\n",
    " - This step is where you left off. You're downloading the necessary resources to tag each word in your filtered text with its part of speech."
   ]
  },
  {
   "cell_type": "markdown",
   "id": "eb30ea7b",
   "metadata": {},
   "source": [
    "Explanation:\n",
    "POS Tagging: Assigns a part of speech tag to each word in your list. For example, it identifies whether a word is a noun, verb, adjective, etc."
   ]
  },
  {
   "cell_type": "code",
   "execution_count": 61,
   "id": "243c4824",
   "metadata": {},
   "outputs": [
    {
     "name": "stderr",
     "output_type": "stream",
     "text": [
      "[nltk_data] Downloading package averaged_perceptron_tagger to\n",
      "[nltk_data]     C:\\Users\\santh\\AppData\\Roaming\\nltk_data...\n",
      "[nltk_data]   Package averaged_perceptron_tagger is already up-to-\n",
      "[nltk_data]       date!\n"
     ]
    },
    {
     "data": {
      "text/plain": [
       "True"
      ]
     },
     "execution_count": 61,
     "metadata": {},
     "output_type": "execute_result"
    }
   ],
   "source": [
    "import nltk\n",
    "nltk.download('averaged_perceptron_tagger')"
   ]
  },
  {
   "cell_type": "code",
   "execution_count": 62,
   "id": "2e44c58f",
   "metadata": {},
   "outputs": [
    {
     "name": "stdout",
     "output_type": "stream",
     "text": [
      "Text after tagging parts of speech:\n",
      "\n",
      "[('Artificial', 'JJ'), ('Intelligence', 'NNP'), ('refers', 'NNS'), ('to', 'TO'), ('a', 'DT'), ('set', 'NN'), ('of', 'IN'), ('concepts', 'NNS'), (',', ','), ('technologies', 'NNS'), (',', ','), ('and', 'CC'), ('methods', 'NNS'), ('that', 'WDT'), ('aim', 'VBP'), ('at', 'IN'), ('making', 'VBG'), ('computers', 'NNS'), ('think', 'VB'), ('and', 'CC'), ('learn', 'VB'), ('like', 'IN'), ('humans', 'NNS'), ('.', '.'), ('It', 'PRP'), ('is', 'VBZ'), ('a', 'DT'), ('new', 'JJ'), ('field', 'NN'), ('of', 'IN'), ('study', 'NN'), ('focusing', 'VBG'), ('on', 'IN'), ('making', 'VBG'), ('computers', 'NNS'), ('smart', 'JJ'), ('-', ':'), ('performing', 'NN'), ('tasks', 'NNS'), ('without', 'IN'), ('any', 'DT'), ('human', 'JJ'), ('instructions', 'NNS'), ('and', 'CC'), ('intervention', 'NN'), ('.', '.'), ('The', 'DT'), ('term', 'NN'), ('was', 'VBD'), ('coined', 'VBN'), ('by', 'IN'), ('John', 'NNP'), ('McCarthy', 'NNP'), ('in', 'IN'), ('1955', 'CD'), ('.', '.')]\n"
     ]
    }
   ],
   "source": [
    "from nltk import pos_tag\n",
    "tagged_words = pos_tag(word_tk)\n",
    "\n",
    "print('Text after tagging parts of speech:\\n')\n",
    "print(tagged_words)"
   ]
  },
  {
   "cell_type": "code",
   "execution_count": null,
   "id": "955fa212",
   "metadata": {},
   "outputs": [],
   "source": []
  },
  {
   "cell_type": "code",
   "execution_count": 63,
   "id": "416bb896",
   "metadata": {},
   "outputs": [
    {
     "name": "stdout",
     "output_type": "stream",
     "text": [
      "Bag of Words:\n",
      "\n",
      "<FreqDist with 47 samples and 56 outcomes>\n"
     ]
    }
   ],
   "source": [
    "from nltk.probability import FreqDist\n",
    "fd = FreqDist(word_tk)\n",
    "\n",
    "print('Bag of Words:\\n')\n",
    "print(fd)"
   ]
  },
  {
   "cell_type": "markdown",
   "id": "7e183414",
   "metadata": {},
   "source": [
    "Bag of Words means how much the particular word is being repeating by doing a frequency distribution plot and we could interpret our output. "
   ]
  },
  {
   "cell_type": "code",
   "execution_count": 64,
   "id": "486a770f",
   "metadata": {},
   "outputs": [
    {
     "data": {
      "image/png": "[encoded data removed]",
      "text/plain": [
       "<Figure size 640x480 with 1 Axes>"
      ]
     },
     "metadata": {},
     "output_type": "display_data"
    }
   ],
   "source": [
    "import matplotlib.pyplot as plt\n",
    "fd.plot(30, cumulative = False)\n",
    "plt.show()"
   ]
  }
 ],
 "metadata": {
  "kernelspec": {
   "display_name": "Python 3 (ipykernel)",
   "language": "python",
   "name": "python3"
  },
  "language_info": {
   "codemirror_mode": {
    "name": "ipython",
    "version": 3
   },
   "file_extension": ".py",
   "mimetype": "text/x-python",
   "name": "python",
   "nbconvert_exporter": "python",
   "pygments_lexer": "ipython3",
   "version": "3.11.4"
  }
 },
 "nbformat": 4,
 "nbformat_minor": 5
}
