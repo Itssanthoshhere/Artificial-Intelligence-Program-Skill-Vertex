{
 "cells": [
  {
   "cell_type": "markdown",
   "id": "51faf520",
   "metadata": {},
   "source": [
    "### 📹 Real-Time and File-Based Grayscale Video Processing with OpenCV"
   ]
  },
  {
   "cell_type": "markdown",
   "id": "ed8fd932",
   "metadata": {},
   "source": [
    "#### Real-Time Grayscale Video Processing with OpenCV"
   ]
  },
  {
   "cell_type": "code",
   "execution_count": 7,
   "id": "bdb51ebc",
   "metadata": {},
   "outputs": [],
   "source": [
    "import cv2\n",
    "import numpy as np\n",
    "\n",
    "# Initialize video capture from the default webcam\n",
    "cap = cv2.VideoCapture(0)\n",
    "\n",
    "while(True):\n",
    "    ret, frame = cap.read()  # Capture frame-by-frame\n",
    "    if not ret:\n",
    "        print(\"Failed to grab frame\")\n",
    "        break\n",
    "\n",
    "    gray = cv2.cvtColor(frame, cv2.COLOR_BGR2GRAY)  # Convert frame to grayscale\n",
    "    \n",
    "    cv2.imshow('frame', gray)  # Display the grayscale frame\n",
    "    \n",
    "    # Exit loop if 'q' is pressed\n",
    "    if cv2.waitKey(1) & 0xFF == ord('q'):\n",
    "        break\n",
    "\n",
    "# Release video capture and close all windows\n",
    "cap.release()\n",
    "cv2.destroyAllWindows()\n"
   ]
  },
  {
   "cell_type": "markdown",
   "id": "ab7d529d",
   "metadata": {},
   "source": [
    "#### Grayscale Video Playback from File with OpenCV"
   ]
  },
  {
   "cell_type": "code",
   "execution_count": 4,
   "id": "70482da8",
   "metadata": {},
   "outputs": [],
   "source": [
    "import cv2\n",
    "import numpy as np\n",
    "\n",
    "# Initialize video capture from the specified file\n",
    "cap = cv2.VideoCapture(\"rec1.mp4\")\n",
    "\n",
    "while(True):\n",
    "    ret, frame = cap.read()  # Capture frame-by-frame\n",
    "    if not ret:\n",
    "        break  # Exit loop if no frame is returned (end of video)\n",
    "    \n",
    "    gray = cv2.cvtColor(frame, cv2.COLOR_BGR2GRAY)  # Convert frame to grayscale\n",
    "    \n",
    "    cv2.imshow('frame', gray)  # Display the grayscale frame\n",
    "    \n",
    "    # Exit loop if 'q' is pressed\n",
    "    if cv2.waitKey(1) & 0xFF == ord('q'):\n",
    "        break\n",
    "\n",
    "# Release video capture and close all windows\n",
    "cap.release()\n",
    "cv2.destroyAllWindows()"
   ]
  }
 ],
 "metadata": {
  "kernelspec": {
   "display_name": "Python 3 (ipykernel)",
   "language": "python",
   "name": "python3"
  },
  "language_info": {
   "codemirror_mode": {
    "name": "ipython",
    "version": 3
   },
   "file_extension": ".py",
   "mimetype": "text/x-python",
   "name": "python",
   "nbconvert_exporter": "python",
   "pygments_lexer": "ipython3",
   "version": "3.11.4"
  }
 },
 "nbformat": 4,
 "nbformat_minor": 5
}
