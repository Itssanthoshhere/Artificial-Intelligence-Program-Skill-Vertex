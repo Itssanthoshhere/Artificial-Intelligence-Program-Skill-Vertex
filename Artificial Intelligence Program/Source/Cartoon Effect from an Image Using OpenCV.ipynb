{
 "cells": [
  {
   "cell_type": "markdown",
   "id": "b66573bf",
   "metadata": {},
   "source": [
    "### 🖼️ Creating a Cartoon Effect from an Image Using OpenCV in Python 🎨"
   ]
  },
  {
   "cell_type": "code",
   "execution_count": 3,
   "id": "696e3096",
   "metadata": {},
   "outputs": [
    {
     "data": {
      "text/plain": [
       "-1"
      ]
     },
     "execution_count": 3,
     "metadata": {},
     "output_type": "execute_result"
    }
   ],
   "source": [
    "import cv2  # Import the OpenCV library\n",
    "import numpy as np  # Import NumPy for numerical operations\n",
    "\n",
    "# Read the image from a file\n",
    "img = cv2.imread(\"cartoon.jpeg\")\n",
    "\n",
    "# Convert the image to grayscale\n",
    "g = cv2.cvtColor(img, cv2.COLOR_BGR2GRAY)\n",
    "\n",
    "# Apply Gaussian blur to the grayscale image to reduce noise and detail\n",
    "g = cv2.GaussianBlur(g, (5, 5), -1)\n",
    "\n",
    "# Use adaptive thresholding to create an edge mask\n",
    "# This step highlights the edges in the image by converting it to a binary image\n",
    "e = cv2.adaptiveThreshold(g, 255, cv2.ADAPTIVE_THRESH_MEAN_C, cv2.THRESH_BINARY, 9, 10)\n",
    "\n",
    "# Apply a bilateral filter to retain edges while smoothing colors\n",
    "color = cv2.bilateralFilter(img, 20, 245, 245)\n",
    "\n",
    "# Combine the color image with the edge mask to produce the cartoon effect\n",
    "cartoon = cv2.bitwise_and(color, color, mask=e)\n",
    "\n",
    "# Display the resulting cartoon image in a window\n",
    "cv2.imshow('cartoon', cartoon)\n",
    "\n",
    "# Wait for a key press indefinitely to keep the window open\n",
    "cv2.waitKey(0)"
   ]
  }
 ],
 "metadata": {
  "kernelspec": {
   "display_name": "Python 3 (ipykernel)",
   "language": "python",
   "name": "python3"
  },
  "language_info": {
   "codemirror_mode": {
    "name": "ipython",
    "version": 3
   },
   "file_extension": ".py",
   "mimetype": "text/x-python",
   "name": "python",
   "nbconvert_exporter": "python",
   "pygments_lexer": "ipython3",
   "version": "3.11.4"
  }
 },
 "nbformat": 4,
 "nbformat_minor": 5
}
