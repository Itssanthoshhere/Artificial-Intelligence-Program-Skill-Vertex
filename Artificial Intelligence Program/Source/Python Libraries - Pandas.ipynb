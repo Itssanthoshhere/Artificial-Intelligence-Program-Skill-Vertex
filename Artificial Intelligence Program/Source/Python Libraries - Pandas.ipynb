{
 "cells": [
  {
   "cell_type": "markdown",
   "id": "87b046f3",
   "metadata": {},
   "source": [
    "### Pandas Library"
   ]
  },
  {
   "cell_type": "markdown",
   "id": "48ca7723",
   "metadata": {},
   "source": [
    "#### Introduction to Pandas\n",
    "   Pandas is a powerful data analysis and manipulation library for Python. It provides data structures like DataFrame and Series, which are essential for handling structured data."
   ]
  },
  {
   "cell_type": "code",
   "execution_count": 573,
   "id": "374de3d9",
   "metadata": {},
   "outputs": [],
   "source": [
    "import pandas as pd\n",
    "import matplotlib.pyplot as plt"
   ]
  },
  {
   "cell_type": "markdown",
   "id": "3a13a925",
   "metadata": {},
   "source": [
    "### Creating a DataFrame\n",
    "\n",
    "You can create a DataFrame from a dictionary of lists."
   ]
  },
  {
   "cell_type": "code",
   "execution_count": 574,
   "id": "92fb61b2",
   "metadata": {
    "scrolled": true
   },
   "outputs": [
    {
     "name": "stdout",
     "output_type": "stream",
     "text": [
      "      cars  range\n",
      "0    honda     10\n",
      "1  hyundai     40\n",
      "2     audi     30\n",
      "3      bmw     20\n"
     ]
    }
   ],
   "source": [
    "# 𝗖𝗿𝗲𝗮𝘁𝗶𝗻𝗴 𝗮 𝗗𝗮𝘁𝗮𝗙𝗿𝗮𝗺𝗲 𝗳𝗿𝗼𝗺 𝗮 𝗱𝗶𝗰𝘁𝗶𝗼𝗻𝗮𝗿𝘆\n",
    "data = {'cars' : ['honda', 'hyundai', 'audi', 'bmw'],'range':[10,40,30,20]}\n",
    "\n",
    "# 𝗖𝗿𝗲𝗮𝘁𝗶𝗻𝗴 𝘁𝗵𝗲 𝗗𝗮𝘁𝗮𝗙𝗿𝗮𝗺𝗲\n",
    "v = pd.DataFrame(data)\n",
    "\n",
    "# 𝗣𝗿𝗶𝗻𝘁𝗶𝗻𝗴 𝘁𝗵𝗲 𝗗𝗮𝘁𝗮𝗙𝗿𝗮𝗺𝗲\n",
    "print(v)"
   ]
  },
  {
   "cell_type": "markdown",
   "id": "7b4ac27a",
   "metadata": {},
   "source": [
    "##### Explanation\n",
    "1. 𝗖𝗿𝗲𝗮𝘁𝗶𝗻𝗴 𝗮 𝗗𝗮𝘁𝗮𝗙𝗿𝗮𝗺𝗲: The dictionary data contains two keys, cars and range, each associated with a list of values. The pd.DataFrame(data) function converts this dictionary into a DataFrame.\n",
    "2. 𝗣𝗿𝗶𝗻𝘁𝗶𝗻𝗴 𝘁𝗵𝗲 𝗗𝗮𝘁𝗮𝗙𝗿𝗮𝗺𝗲: The print(v) statement displays the DataFrame."
   ]
  },
  {
   "cell_type": "markdown",
   "id": "742b9a84",
   "metadata": {},
   "source": [
    "### Working with Series?\n",
    "\n",
    "A Series is a one-dimensional array-like object containing an array of data and an associated array of data labels, called its index."
   ]
  },
  {
   "cell_type": "code",
   "execution_count": 575,
   "id": "fe7945fe",
   "metadata": {},
   "outputs": [
    {
     "name": "stdout",
     "output_type": "stream",
     "text": [
      "0    1\n",
      "1    3\n",
      "2    4\n",
      "3    5\n",
      "dtype: int64\n"
     ]
    }
   ],
   "source": [
    "# 𝗖𝗿𝗲𝗮𝘁𝗶𝗻𝗴 𝗮 𝗦𝗲𝗿𝗶𝗲𝘀 𝗳𝗿𝗼𝗺 𝗮 𝗹𝗶𝘀𝘁\n",
    "a = [1,3,4,5]\n",
    "var = pd.Series(a)\n",
    "\n",
    "# 𝗣𝗿𝗶𝗻𝘁𝗶𝗻𝗴 𝘁𝗵𝗲 𝗦𝗲𝗿𝗶𝗲𝘀\n",
    "print(var)"
   ]
  },
  {
   "cell_type": "markdown",
   "id": "820b3729",
   "metadata": {},
   "source": [
    "##### Explanation\n",
    "1. 𝗖𝗿𝗲𝗮𝘁𝗶𝗻𝗴 𝗮 𝗦𝗲𝗿𝗶𝗲𝘀: The list a is converted into a Pandas Series using pd.Series(a).\n",
    "2. 𝗣𝗿𝗶𝗻𝘁𝗶𝗻𝗴 𝘁𝗵𝗲 𝗦𝗲𝗿𝗶𝗲𝘀: The print(var) statement displays the Series."
   ]
  },
  {
   "cell_type": "code",
   "execution_count": null,
   "id": "f7493f79",
   "metadata": {},
   "outputs": [],
   "source": []
  },
  {
   "cell_type": "code",
   "execution_count": 576,
   "id": "88a38c1c",
   "metadata": {},
   "outputs": [
    {
     "name": "stdout",
     "output_type": "stream",
     "text": [
      "3\n"
     ]
    }
   ],
   "source": [
    "# 𝗔𝗰𝗰𝗲𝘀𝘀𝗶𝗻𝗴 𝗮𝗻 𝗲𝗹𝗲𝗺𝗲𝗻𝘁 𝗳𝗿𝗼𝗺 𝘁𝗵𝗲 𝗦𝗲𝗿𝗶𝗲𝘀 𝗯𝘆 𝗶𝗻𝗱𝗲𝘅\n",
    "print(var[1])"
   ]
  },
  {
   "cell_type": "markdown",
   "id": "347e9e62",
   "metadata": {},
   "source": [
    "##### Explanation\n",
    "1. 𝗔𝗰𝗰𝗲𝘀𝘀𝗶𝗻𝗴 𝗘𝗹𝗲𝗺𝗲𝗻𝘁𝘀: You can access elements in a Series using their index."
   ]
  },
  {
   "cell_type": "code",
   "execution_count": null,
   "id": "d307c665",
   "metadata": {},
   "outputs": [],
   "source": []
  },
  {
   "cell_type": "code",
   "execution_count": 577,
   "id": "50fcae1b",
   "metadata": {},
   "outputs": [
    {
     "name": "stdout",
     "output_type": "stream",
     "text": [
      "a    1\n",
      "b    3\n",
      "c    4\n",
      "d    5\n",
      "dtype: int64\n"
     ]
    }
   ],
   "source": [
    "# 𝗖𝗿𝗲𝗮𝘁𝗶𝗻𝗴 𝗮 𝗦𝗲𝗿𝗶𝗲𝘀 𝘄𝗶𝘁𝗵 𝗮 𝗰𝘂𝘀𝘁𝗼𝗺 𝗶𝗻𝗱𝗲𝘅\n",
    "b = pd.Series(a, index=['a', 'b', 'c', 'd'])\n",
    "\n",
    "# 𝗣𝗿𝗶𝗻𝘁𝗶𝗻𝗴 𝘁𝗵𝗲 𝗦𝗲𝗿𝗶𝗲𝘀 𝘄𝗶𝘁𝗵 𝗮 𝗰𝘂𝘀𝘁𝗼𝗺 𝗶𝗻𝗱𝗲𝘅\n",
    "print(b)"
   ]
  },
  {
   "cell_type": "markdown",
   "id": "53ced50c",
   "metadata": {},
   "source": [
    "##### Explanation\n",
    "1. 𝗖𝘂𝘀𝘁𝗼𝗺 𝗜𝗻𝗱𝗲𝘅: You can assign custom index labels to the elements of the Series."
   ]
  },
  {
   "cell_type": "code",
   "execution_count": null,
   "id": "3d2c1261",
   "metadata": {},
   "outputs": [],
   "source": []
  },
  {
   "cell_type": "code",
   "execution_count": 578,
   "id": "20b2a0cf",
   "metadata": {},
   "outputs": [
    {
     "name": "stdout",
     "output_type": "stream",
     "text": [
      "ram      65\n",
      "sita     80\n",
      "priya    90\n",
      "dtype: int64\n"
     ]
    }
   ],
   "source": [
    "# 𝗖𝗿𝗲𝗮𝘁𝗶𝗻𝗴 𝗮 𝗦𝗲𝗿𝗶𝗲𝘀 𝗳𝗿𝗼𝗺 𝗮 𝗱𝗶𝗰𝘁𝗶𝗼𝗻𝗮𝗿𝘆\n",
    "stud = {'ram': 65, 'sita': 80, 'priya': 90}\n",
    "vi = pd.Series(stud)\n",
    "\n",
    "# 𝗣𝗿𝗶𝗻𝘁𝗶𝗻𝗴 𝘁𝗵𝗲 𝗦𝗲𝗿𝗶𝗲𝘀\n",
    "print(vi)"
   ]
  },
  {
   "cell_type": "markdown",
   "id": "6b3f8054",
   "metadata": {},
   "source": [
    "##### Explanation\n",
    "1. 𝗦𝗲𝗿𝗶𝗲𝘀 𝗳𝗿𝗼𝗺 𝗗𝗶𝗰𝘁𝗶𝗼𝗻𝗮𝗿𝘆: A dictionary can be directly converted into a Series, where the keys become the index and the values become the data."
   ]
  },
  {
   "cell_type": "code",
   "execution_count": null,
   "id": "5b2ed998",
   "metadata": {},
   "outputs": [],
   "source": []
  },
  {
   "cell_type": "markdown",
   "id": "56ada98b",
   "metadata": {},
   "source": [
    "### Working with DataFrame"
   ]
  },
  {
   "cell_type": "code",
   "execution_count": 579,
   "id": "bcd1c32d",
   "metadata": {},
   "outputs": [
    {
     "name": "stdout",
     "output_type": "stream",
     "text": [
      "      cars  range\n",
      "0    honda     10\n",
      "1  hyundai     40\n",
      "2     audi     30\n",
      "3      bmw     20\n"
     ]
    }
   ],
   "source": [
    "import pandas as pd\n",
    "\n",
    "# 𝗖𝗿𝗲𝗮𝘁𝗶𝗻𝗴 𝗮 𝗗𝗮𝘁𝗮𝗙𝗿𝗮𝗺𝗲 𝗳𝗿𝗼𝗺 𝗮 𝗱𝗶𝗰𝘁𝗶𝗼𝗻𝗮𝗿𝘆\n",
    "data = {'cars': ['honda', 'hyundai', 'audi', 'bmw'], 'range': [10, 40, 30, 20]}\n",
    "v = pd.DataFrame(data)\n",
    "\n",
    "# 𝗣𝗿𝗶𝗻𝘁𝗶𝗻𝗴 𝘁𝗵𝗲 𝗗𝗮𝘁𝗮𝗙𝗿𝗮𝗺𝗲 𝘁𝗼 𝘀𝗲𝗲 𝗶𝘁𝘀 𝗰𝗼𝗻𝘁𝗲𝗻𝘁\n",
    "print(v)"
   ]
  },
  {
   "cell_type": "code",
   "execution_count": 580,
   "id": "429ebbc5",
   "metadata": {},
   "outputs": [
    {
     "name": "stdout",
     "output_type": "stream",
     "text": [
      "      cars  range\n",
      "0    honda     10\n",
      "1  hyundai     40\n",
      "2     audi     30\n"
     ]
    }
   ],
   "source": [
    "# 𝗦𝗲𝗹𝗲𝗰𝘁𝗶𝗻𝗴 𝗿𝗼𝘄𝘀 𝘄𝗶𝘁𝗵 𝗶𝗻𝗱𝗶𝗰𝗲𝘀 𝟬, 𝟭, 𝗮𝗻𝗱 𝟮\n",
    "print(v.loc[[0, 1, 2]])"
   ]
  },
  {
   "cell_type": "code",
   "execution_count": 581,
   "id": "8f3b96c3",
   "metadata": {},
   "outputs": [
    {
     "name": "stdout",
     "output_type": "stream",
     "text": [
      "    cars  range\n",
      "0  honda     10\n"
     ]
    }
   ],
   "source": [
    "# 𝗦𝗲𝗹𝗲𝗰𝘁𝗶𝗻𝗴 𝗼𝗻𝗹𝘆 𝘁𝗵𝗲 𝗿𝗼𝘄 𝘄𝗶𝘁𝗵 𝗶𝗻𝗱𝗲𝘅 𝟬\n",
    "print(v.loc[[0]])"
   ]
  },
  {
   "cell_type": "markdown",
   "id": "a0d81ae3",
   "metadata": {},
   "source": [
    "#### Creating a DataFrame with a Custom Index"
   ]
  },
  {
   "cell_type": "code",
   "execution_count": 582,
   "id": "cf4c6682",
   "metadata": {},
   "outputs": [
    {
     "data": {
      "text/html": [
       "<div>\n",
       "<style scoped>\n",
       "    .dataframe tbody tr th:only-of-type {\n",
       "        vertical-align: middle;\n",
       "    }\n",
       "\n",
       "    .dataframe tbody tr th {\n",
       "        vertical-align: top;\n",
       "    }\n",
       "\n",
       "    .dataframe thead th {\n",
       "        text-align: right;\n",
       "    }\n",
       "</style>\n",
       "<table border=\"1\" class=\"dataframe\">\n",
       "  <thead>\n",
       "    <tr style=\"text-align: right;\">\n",
       "      <th></th>\n",
       "      <th>cars</th>\n",
       "      <th>range</th>\n",
       "    </tr>\n",
       "  </thead>\n",
       "  <tbody>\n",
       "    <tr>\n",
       "      <th>car1</th>\n",
       "      <td>honda</td>\n",
       "      <td>10</td>\n",
       "    </tr>\n",
       "    <tr>\n",
       "      <th>car2</th>\n",
       "      <td>hyundai</td>\n",
       "      <td>40</td>\n",
       "    </tr>\n",
       "    <tr>\n",
       "      <th>car3</th>\n",
       "      <td>audi</td>\n",
       "      <td>30</td>\n",
       "    </tr>\n",
       "    <tr>\n",
       "      <th>car4</th>\n",
       "      <td>bmw</td>\n",
       "      <td>20</td>\n",
       "    </tr>\n",
       "  </tbody>\n",
       "</table>\n",
       "</div>"
      ],
      "text/plain": [
       "         cars  range\n",
       "car1    honda     10\n",
       "car2  hyundai     40\n",
       "car3     audi     30\n",
       "car4      bmw     20"
      ]
     },
     "execution_count": 582,
     "metadata": {},
     "output_type": "execute_result"
    }
   ],
   "source": [
    "# Creating a DataFrame with a custom index\n",
    "v = pd.DataFrame(data, index=['car1', 'car2', 'car3', 'car4'])\n",
    "\n",
    "# Printing the DataFrame with a custom index\n",
    "v"
   ]
  },
  {
   "cell_type": "markdown",
   "id": "92b26a00",
   "metadata": {},
   "source": [
    "##### Explanation\n",
    "1. 𝗖𝘂𝘀𝘁𝗼𝗺 𝗜𝗻𝗱𝗲𝘅: You can set custom index labels for the DataFrame rows."
   ]
  },
  {
   "cell_type": "code",
   "execution_count": null,
   "id": "0ba012be",
   "metadata": {},
   "outputs": [],
   "source": []
  },
  {
   "cell_type": "markdown",
   "id": "9995a1ce",
   "metadata": {},
   "source": [
    "### Loading Data from a CSV File"
   ]
  },
  {
   "cell_type": "code",
   "execution_count": 583,
   "id": "97e90403",
   "metadata": {},
   "outputs": [
    {
     "data": {
      "text/html": [
       "<div>\n",
       "<style scoped>\n",
       "    .dataframe tbody tr th:only-of-type {\n",
       "        vertical-align: middle;\n",
       "    }\n",
       "\n",
       "    .dataframe tbody tr th {\n",
       "        vertical-align: top;\n",
       "    }\n",
       "\n",
       "    .dataframe thead th {\n",
       "        text-align: right;\n",
       "    }\n",
       "</style>\n",
       "<table border=\"1\" class=\"dataframe\">\n",
       "  <thead>\n",
       "    <tr style=\"text-align: right;\">\n",
       "      <th></th>\n",
       "      <th>CustomerID</th>\n",
       "      <th>Gender</th>\n",
       "      <th>Age</th>\n",
       "      <th>Annual Income (k$)</th>\n",
       "      <th>Spending Score (1-100)</th>\n",
       "    </tr>\n",
       "  </thead>\n",
       "  <tbody>\n",
       "    <tr>\n",
       "      <th>0</th>\n",
       "      <td>1</td>\n",
       "      <td>Male</td>\n",
       "      <td>19</td>\n",
       "      <td>15.0</td>\n",
       "      <td>39.0</td>\n",
       "    </tr>\n",
       "    <tr>\n",
       "      <th>1</th>\n",
       "      <td>2</td>\n",
       "      <td>Male</td>\n",
       "      <td>21</td>\n",
       "      <td>15.0</td>\n",
       "      <td>81.0</td>\n",
       "    </tr>\n",
       "    <tr>\n",
       "      <th>2</th>\n",
       "      <td>3</td>\n",
       "      <td>Female</td>\n",
       "      <td>20</td>\n",
       "      <td>16.0</td>\n",
       "      <td>6.0</td>\n",
       "    </tr>\n",
       "    <tr>\n",
       "      <th>3</th>\n",
       "      <td>4</td>\n",
       "      <td>Female</td>\n",
       "      <td>23</td>\n",
       "      <td>NaN</td>\n",
       "      <td>NaN</td>\n",
       "    </tr>\n",
       "    <tr>\n",
       "      <th>4</th>\n",
       "      <td>5</td>\n",
       "      <td>Female</td>\n",
       "      <td>31</td>\n",
       "      <td>17.0</td>\n",
       "      <td>40.0</td>\n",
       "    </tr>\n",
       "    <tr>\n",
       "      <th>...</th>\n",
       "      <td>...</td>\n",
       "      <td>...</td>\n",
       "      <td>...</td>\n",
       "      <td>...</td>\n",
       "      <td>...</td>\n",
       "    </tr>\n",
       "    <tr>\n",
       "      <th>195</th>\n",
       "      <td>196</td>\n",
       "      <td>Female</td>\n",
       "      <td>35</td>\n",
       "      <td>120.0</td>\n",
       "      <td>79.0</td>\n",
       "    </tr>\n",
       "    <tr>\n",
       "      <th>196</th>\n",
       "      <td>197</td>\n",
       "      <td>Female</td>\n",
       "      <td>45</td>\n",
       "      <td>126.0</td>\n",
       "      <td>28.0</td>\n",
       "    </tr>\n",
       "    <tr>\n",
       "      <th>197</th>\n",
       "      <td>198</td>\n",
       "      <td>Male</td>\n",
       "      <td>32</td>\n",
       "      <td>126.0</td>\n",
       "      <td>74.0</td>\n",
       "    </tr>\n",
       "    <tr>\n",
       "      <th>198</th>\n",
       "      <td>199</td>\n",
       "      <td>Male</td>\n",
       "      <td>32</td>\n",
       "      <td>137.0</td>\n",
       "      <td>18.0</td>\n",
       "    </tr>\n",
       "    <tr>\n",
       "      <th>199</th>\n",
       "      <td>200</td>\n",
       "      <td>Male</td>\n",
       "      <td>30</td>\n",
       "      <td>137.0</td>\n",
       "      <td>83.0</td>\n",
       "    </tr>\n",
       "  </tbody>\n",
       "</table>\n",
       "<p>200 rows × 5 columns</p>\n",
       "</div>"
      ],
      "text/plain": [
       "     CustomerID  Gender  Age  Annual Income (k$)  Spending Score (1-100)\n",
       "0             1    Male   19                15.0                    39.0\n",
       "1             2    Male   21                15.0                    81.0\n",
       "2             3  Female   20                16.0                     6.0\n",
       "3             4  Female   23                 NaN                     NaN\n",
       "4             5  Female   31                17.0                    40.0\n",
       "..          ...     ...  ...                 ...                     ...\n",
       "195         196  Female   35               120.0                    79.0\n",
       "196         197  Female   45               126.0                    28.0\n",
       "197         198    Male   32               126.0                    74.0\n",
       "198         199    Male   32               137.0                    18.0\n",
       "199         200    Male   30               137.0                    83.0\n",
       "\n",
       "[200 rows x 5 columns]"
      ]
     },
     "execution_count": 583,
     "metadata": {},
     "output_type": "execute_result"
    }
   ],
   "source": [
    "import pandas as pd\n",
    "\n",
    "# Reading the CSV file into a DataFrame\n",
    "df = pd.read_csv('Mall_Customers.csv')\n",
    "\n",
    "# Displaying the contents of the DataFrame\n",
    "df\n"
   ]
  },
  {
   "cell_type": "markdown",
   "id": "5b2764d7",
   "metadata": {},
   "source": [
    "##### Explanation\n",
    "1. 𝗟𝗼𝗮𝗱𝗶𝗻𝗴 𝗖𝗦𝗩 𝗗𝗮𝘁𝗮: The pd.read_csv('filename.csv') function loads data from a CSV file into a DataFrame.\n",
    "2. 𝗩𝗶𝗲𝘄𝗶𝗻𝗴 𝗗𝗮𝘁𝗮: The df.head() function displays the first few rows of the DataFrame."
   ]
  },
  {
   "cell_type": "code",
   "execution_count": null,
   "id": "80c61b5a",
   "metadata": {},
   "outputs": [],
   "source": []
  },
  {
   "cell_type": "markdown",
   "id": "d6baba6b",
   "metadata": {},
   "source": [
    "### Data Cleaning\n",
    "\n",
    "#### Dropping Missing Values"
   ]
  },
  {
   "cell_type": "code",
   "execution_count": 584,
   "id": "0b85b466",
   "metadata": {},
   "outputs": [
    {
     "data": {
      "text/html": [
       "<div>\n",
       "<style scoped>\n",
       "    .dataframe tbody tr th:only-of-type {\n",
       "        vertical-align: middle;\n",
       "    }\n",
       "\n",
       "    .dataframe tbody tr th {\n",
       "        vertical-align: top;\n",
       "    }\n",
       "\n",
       "    .dataframe thead th {\n",
       "        text-align: right;\n",
       "    }\n",
       "</style>\n",
       "<table border=\"1\" class=\"dataframe\">\n",
       "  <thead>\n",
       "    <tr style=\"text-align: right;\">\n",
       "      <th></th>\n",
       "      <th>CustomerID</th>\n",
       "      <th>Gender</th>\n",
       "      <th>Age</th>\n",
       "      <th>Annual Income (k$)</th>\n",
       "      <th>Spending Score (1-100)</th>\n",
       "    </tr>\n",
       "  </thead>\n",
       "  <tbody>\n",
       "    <tr>\n",
       "      <th>0</th>\n",
       "      <td>1</td>\n",
       "      <td>Male</td>\n",
       "      <td>19</td>\n",
       "      <td>15.0</td>\n",
       "      <td>39.0</td>\n",
       "    </tr>\n",
       "    <tr>\n",
       "      <th>1</th>\n",
       "      <td>2</td>\n",
       "      <td>Male</td>\n",
       "      <td>21</td>\n",
       "      <td>15.0</td>\n",
       "      <td>81.0</td>\n",
       "    </tr>\n",
       "    <tr>\n",
       "      <th>2</th>\n",
       "      <td>3</td>\n",
       "      <td>Female</td>\n",
       "      <td>20</td>\n",
       "      <td>16.0</td>\n",
       "      <td>6.0</td>\n",
       "    </tr>\n",
       "    <tr>\n",
       "      <th>4</th>\n",
       "      <td>5</td>\n",
       "      <td>Female</td>\n",
       "      <td>31</td>\n",
       "      <td>17.0</td>\n",
       "      <td>40.0</td>\n",
       "    </tr>\n",
       "    <tr>\n",
       "      <th>5</th>\n",
       "      <td>6</td>\n",
       "      <td>Female</td>\n",
       "      <td>22</td>\n",
       "      <td>17.0</td>\n",
       "      <td>76.0</td>\n",
       "    </tr>\n",
       "    <tr>\n",
       "      <th>...</th>\n",
       "      <td>...</td>\n",
       "      <td>...</td>\n",
       "      <td>...</td>\n",
       "      <td>...</td>\n",
       "      <td>...</td>\n",
       "    </tr>\n",
       "    <tr>\n",
       "      <th>195</th>\n",
       "      <td>196</td>\n",
       "      <td>Female</td>\n",
       "      <td>35</td>\n",
       "      <td>120.0</td>\n",
       "      <td>79.0</td>\n",
       "    </tr>\n",
       "    <tr>\n",
       "      <th>196</th>\n",
       "      <td>197</td>\n",
       "      <td>Female</td>\n",
       "      <td>45</td>\n",
       "      <td>126.0</td>\n",
       "      <td>28.0</td>\n",
       "    </tr>\n",
       "    <tr>\n",
       "      <th>197</th>\n",
       "      <td>198</td>\n",
       "      <td>Male</td>\n",
       "      <td>32</td>\n",
       "      <td>126.0</td>\n",
       "      <td>74.0</td>\n",
       "    </tr>\n",
       "    <tr>\n",
       "      <th>198</th>\n",
       "      <td>199</td>\n",
       "      <td>Male</td>\n",
       "      <td>32</td>\n",
       "      <td>137.0</td>\n",
       "      <td>18.0</td>\n",
       "    </tr>\n",
       "    <tr>\n",
       "      <th>199</th>\n",
       "      <td>200</td>\n",
       "      <td>Male</td>\n",
       "      <td>30</td>\n",
       "      <td>137.0</td>\n",
       "      <td>83.0</td>\n",
       "    </tr>\n",
       "  </tbody>\n",
       "</table>\n",
       "<p>199 rows × 5 columns</p>\n",
       "</div>"
      ],
      "text/plain": [
       "     CustomerID  Gender  Age  Annual Income (k$)  Spending Score (1-100)\n",
       "0             1    Male   19                15.0                    39.0\n",
       "1             2    Male   21                15.0                    81.0\n",
       "2             3  Female   20                16.0                     6.0\n",
       "4             5  Female   31                17.0                    40.0\n",
       "5             6  Female   22                17.0                    76.0\n",
       "..          ...     ...  ...                 ...                     ...\n",
       "195         196  Female   35               120.0                    79.0\n",
       "196         197  Female   45               126.0                    28.0\n",
       "197         198    Male   32               126.0                    74.0\n",
       "198         199    Male   32               137.0                    18.0\n",
       "199         200    Male   30               137.0                    83.0\n",
       "\n",
       "[199 rows x 5 columns]"
      ]
     },
     "execution_count": 584,
     "metadata": {},
     "output_type": "execute_result"
    }
   ],
   "source": [
    "# Dropping rows with missing values\n",
    "new_df = df.dropna()\n",
    "\n",
    "# Printing the cleaned DataFrame\n",
    "new_df"
   ]
  },
  {
   "cell_type": "markdown",
   "id": "8332ec0e",
   "metadata": {},
   "source": [
    "##### Explanation\n",
    "1. 𝗗𝗿𝗼𝗽𝗽𝗶𝗻𝗴 𝗥𝗼𝘄𝘀: The df.dropna() function removes rows with missing values."
   ]
  },
  {
   "cell_type": "code",
   "execution_count": null,
   "id": "6af85eb4",
   "metadata": {},
   "outputs": [],
   "source": []
  },
  {
   "cell_type": "code",
   "execution_count": 585,
   "id": "0c9751d0",
   "metadata": {},
   "outputs": [
    {
     "data": {
      "text/html": [
       "<div>\n",
       "<style scoped>\n",
       "    .dataframe tbody tr th:only-of-type {\n",
       "        vertical-align: middle;\n",
       "    }\n",
       "\n",
       "    .dataframe tbody tr th {\n",
       "        vertical-align: top;\n",
       "    }\n",
       "\n",
       "    .dataframe thead th {\n",
       "        text-align: right;\n",
       "    }\n",
       "</style>\n",
       "<table border=\"1\" class=\"dataframe\">\n",
       "  <thead>\n",
       "    <tr style=\"text-align: right;\">\n",
       "      <th></th>\n",
       "      <th>CustomerID</th>\n",
       "      <th>Gender</th>\n",
       "      <th>Age</th>\n",
       "      <th>Annual Income (k$)</th>\n",
       "      <th>Spending Score (1-100)</th>\n",
       "    </tr>\n",
       "  </thead>\n",
       "  <tbody>\n",
       "    <tr>\n",
       "      <th>0</th>\n",
       "      <td>1</td>\n",
       "      <td>Male</td>\n",
       "      <td>19</td>\n",
       "      <td>15.0</td>\n",
       "      <td>39.0</td>\n",
       "    </tr>\n",
       "    <tr>\n",
       "      <th>1</th>\n",
       "      <td>2</td>\n",
       "      <td>Male</td>\n",
       "      <td>21</td>\n",
       "      <td>15.0</td>\n",
       "      <td>81.0</td>\n",
       "    </tr>\n",
       "    <tr>\n",
       "      <th>2</th>\n",
       "      <td>3</td>\n",
       "      <td>Female</td>\n",
       "      <td>20</td>\n",
       "      <td>16.0</td>\n",
       "      <td>6.0</td>\n",
       "    </tr>\n",
       "    <tr>\n",
       "      <th>4</th>\n",
       "      <td>5</td>\n",
       "      <td>Female</td>\n",
       "      <td>31</td>\n",
       "      <td>17.0</td>\n",
       "      <td>40.0</td>\n",
       "    </tr>\n",
       "    <tr>\n",
       "      <th>5</th>\n",
       "      <td>6</td>\n",
       "      <td>Female</td>\n",
       "      <td>22</td>\n",
       "      <td>17.0</td>\n",
       "      <td>76.0</td>\n",
       "    </tr>\n",
       "    <tr>\n",
       "      <th>...</th>\n",
       "      <td>...</td>\n",
       "      <td>...</td>\n",
       "      <td>...</td>\n",
       "      <td>...</td>\n",
       "      <td>...</td>\n",
       "    </tr>\n",
       "    <tr>\n",
       "      <th>195</th>\n",
       "      <td>196</td>\n",
       "      <td>Female</td>\n",
       "      <td>35</td>\n",
       "      <td>120.0</td>\n",
       "      <td>79.0</td>\n",
       "    </tr>\n",
       "    <tr>\n",
       "      <th>196</th>\n",
       "      <td>197</td>\n",
       "      <td>Female</td>\n",
       "      <td>45</td>\n",
       "      <td>126.0</td>\n",
       "      <td>28.0</td>\n",
       "    </tr>\n",
       "    <tr>\n",
       "      <th>197</th>\n",
       "      <td>198</td>\n",
       "      <td>Male</td>\n",
       "      <td>32</td>\n",
       "      <td>126.0</td>\n",
       "      <td>74.0</td>\n",
       "    </tr>\n",
       "    <tr>\n",
       "      <th>198</th>\n",
       "      <td>199</td>\n",
       "      <td>Male</td>\n",
       "      <td>32</td>\n",
       "      <td>137.0</td>\n",
       "      <td>18.0</td>\n",
       "    </tr>\n",
       "    <tr>\n",
       "      <th>199</th>\n",
       "      <td>200</td>\n",
       "      <td>Male</td>\n",
       "      <td>30</td>\n",
       "      <td>137.0</td>\n",
       "      <td>83.0</td>\n",
       "    </tr>\n",
       "  </tbody>\n",
       "</table>\n",
       "<p>199 rows × 5 columns</p>\n",
       "</div>"
      ],
      "text/plain": [
       "     CustomerID  Gender  Age  Annual Income (k$)  Spending Score (1-100)\n",
       "0             1    Male   19                15.0                    39.0\n",
       "1             2    Male   21                15.0                    81.0\n",
       "2             3  Female   20                16.0                     6.0\n",
       "4             5  Female   31                17.0                    40.0\n",
       "5             6  Female   22                17.0                    76.0\n",
       "..          ...     ...  ...                 ...                     ...\n",
       "195         196  Female   35               120.0                    79.0\n",
       "196         197  Female   45               126.0                    28.0\n",
       "197         198    Male   32               126.0                    74.0\n",
       "198         199    Male   32               137.0                    18.0\n",
       "199         200    Male   30               137.0                    83.0\n",
       "\n",
       "[199 rows x 5 columns]"
      ]
     },
     "execution_count": 585,
     "metadata": {},
     "output_type": "execute_result"
    }
   ],
   "source": [
    "# Dropping rows with missing values in place\n",
    "df.dropna(inplace=True)\n",
    "\n",
    "# Printing the cleaned DataFrame\n",
    "df"
   ]
  },
  {
   "cell_type": "markdown",
   "id": "d11fdf1b",
   "metadata": {},
   "source": [
    "##### Explanation\n",
    "1. 𝗜𝗻-𝗣𝗹𝗮𝗰𝗲 𝗗𝗿𝗼𝗽𝗽𝗶𝗻𝗴: The inplace=True parameter modifies the original DataFrame directly."
   ]
  },
  {
   "cell_type": "code",
   "execution_count": null,
   "id": "87661209",
   "metadata": {},
   "outputs": [],
   "source": []
  },
  {
   "cell_type": "markdown",
   "id": "5c763683",
   "metadata": {},
   "source": [
    "#### Filling Missing Values"
   ]
  },
  {
   "cell_type": "code",
   "execution_count": 586,
   "id": "3ae1fb63",
   "metadata": {},
   "outputs": [
    {
     "data": {
      "text/html": [
       "<div>\n",
       "<style scoped>\n",
       "    .dataframe tbody tr th:only-of-type {\n",
       "        vertical-align: middle;\n",
       "    }\n",
       "\n",
       "    .dataframe tbody tr th {\n",
       "        vertical-align: top;\n",
       "    }\n",
       "\n",
       "    .dataframe thead th {\n",
       "        text-align: right;\n",
       "    }\n",
       "</style>\n",
       "<table border=\"1\" class=\"dataframe\">\n",
       "  <thead>\n",
       "    <tr style=\"text-align: right;\">\n",
       "      <th></th>\n",
       "      <th>CustomerID</th>\n",
       "      <th>Gender</th>\n",
       "      <th>Age</th>\n",
       "      <th>Annual Income (k$)</th>\n",
       "      <th>Spending Score (1-100)</th>\n",
       "    </tr>\n",
       "  </thead>\n",
       "  <tbody>\n",
       "    <tr>\n",
       "      <th>0</th>\n",
       "      <td>1</td>\n",
       "      <td>Male</td>\n",
       "      <td>19</td>\n",
       "      <td>15.0</td>\n",
       "      <td>39.0</td>\n",
       "    </tr>\n",
       "    <tr>\n",
       "      <th>1</th>\n",
       "      <td>2</td>\n",
       "      <td>Male</td>\n",
       "      <td>21</td>\n",
       "      <td>15.0</td>\n",
       "      <td>81.0</td>\n",
       "    </tr>\n",
       "    <tr>\n",
       "      <th>2</th>\n",
       "      <td>3</td>\n",
       "      <td>Female</td>\n",
       "      <td>20</td>\n",
       "      <td>16.0</td>\n",
       "      <td>6.0</td>\n",
       "    </tr>\n",
       "    <tr>\n",
       "      <th>4</th>\n",
       "      <td>5</td>\n",
       "      <td>Female</td>\n",
       "      <td>31</td>\n",
       "      <td>17.0</td>\n",
       "      <td>40.0</td>\n",
       "    </tr>\n",
       "    <tr>\n",
       "      <th>5</th>\n",
       "      <td>6</td>\n",
       "      <td>Female</td>\n",
       "      <td>22</td>\n",
       "      <td>17.0</td>\n",
       "      <td>76.0</td>\n",
       "    </tr>\n",
       "    <tr>\n",
       "      <th>...</th>\n",
       "      <td>...</td>\n",
       "      <td>...</td>\n",
       "      <td>...</td>\n",
       "      <td>...</td>\n",
       "      <td>...</td>\n",
       "    </tr>\n",
       "    <tr>\n",
       "      <th>195</th>\n",
       "      <td>196</td>\n",
       "      <td>Female</td>\n",
       "      <td>35</td>\n",
       "      <td>120.0</td>\n",
       "      <td>79.0</td>\n",
       "    </tr>\n",
       "    <tr>\n",
       "      <th>196</th>\n",
       "      <td>197</td>\n",
       "      <td>Female</td>\n",
       "      <td>45</td>\n",
       "      <td>126.0</td>\n",
       "      <td>28.0</td>\n",
       "    </tr>\n",
       "    <tr>\n",
       "      <th>197</th>\n",
       "      <td>198</td>\n",
       "      <td>Male</td>\n",
       "      <td>32</td>\n",
       "      <td>126.0</td>\n",
       "      <td>74.0</td>\n",
       "    </tr>\n",
       "    <tr>\n",
       "      <th>198</th>\n",
       "      <td>199</td>\n",
       "      <td>Male</td>\n",
       "      <td>32</td>\n",
       "      <td>137.0</td>\n",
       "      <td>18.0</td>\n",
       "    </tr>\n",
       "    <tr>\n",
       "      <th>199</th>\n",
       "      <td>200</td>\n",
       "      <td>Male</td>\n",
       "      <td>30</td>\n",
       "      <td>137.0</td>\n",
       "      <td>83.0</td>\n",
       "    </tr>\n",
       "  </tbody>\n",
       "</table>\n",
       "<p>199 rows × 5 columns</p>\n",
       "</div>"
      ],
      "text/plain": [
       "     CustomerID  Gender  Age  Annual Income (k$)  Spending Score (1-100)\n",
       "0             1    Male   19                15.0                    39.0\n",
       "1             2    Male   21                15.0                    81.0\n",
       "2             3  Female   20                16.0                     6.0\n",
       "4             5  Female   31                17.0                    40.0\n",
       "5             6  Female   22                17.0                    76.0\n",
       "..          ...     ...  ...                 ...                     ...\n",
       "195         196  Female   35               120.0                    79.0\n",
       "196         197  Female   45               126.0                    28.0\n",
       "197         198    Male   32               126.0                    74.0\n",
       "198         199    Male   32               137.0                    18.0\n",
       "199         200    Male   30               137.0                    83.0\n",
       "\n",
       "[199 rows x 5 columns]"
      ]
     },
     "execution_count": 586,
     "metadata": {},
     "output_type": "execute_result"
    }
   ],
   "source": [
    "# Filling missing values with a specified value\n",
    "df.fillna(30, inplace=True)\n",
    "\n",
    "# Printing the DataFrame with filled values\n",
    "df"
   ]
  },
  {
   "cell_type": "markdown",
   "id": "aaea3889",
   "metadata": {},
   "source": [
    "##### Explanation\n",
    "1. 𝗙𝗶𝗹𝗹𝗶𝗻𝗴 𝗩𝗮𝗹𝘂𝗲𝘀: The df.fillna(value) function fills missing values with the specified value."
   ]
  },
  {
   "cell_type": "code",
   "execution_count": null,
   "id": "9b5a85e8",
   "metadata": {},
   "outputs": [],
   "source": []
  },
  {
   "cell_type": "markdown",
   "id": "2cde5d35",
   "metadata": {},
   "source": [
    "### Descriptive Statistics\n",
    "\n",
    "#### Calculating Mean, Median, and ModeData Cleaning"
   ]
  },
  {
   "cell_type": "code",
   "execution_count": 587,
   "id": "a828fa01",
   "metadata": {},
   "outputs": [
    {
     "name": "stdout",
     "output_type": "stream",
     "text": [
      "38.92964824120603\n"
     ]
    }
   ],
   "source": [
    "# Calculating the mean of a column\n",
    "x = df['Age'].mean()\n",
    "print(x)"
   ]
  },
  {
   "cell_type": "code",
   "execution_count": 588,
   "id": "db76a1b7",
   "metadata": {},
   "outputs": [
    {
     "data": {
      "text/plain": [
       "36.0"
      ]
     },
     "execution_count": 588,
     "metadata": {},
     "output_type": "execute_result"
    }
   ],
   "source": [
    "# Calculating the median of a column\n",
    "y = df['Age'].median()\n",
    "y"
   ]
  },
  {
   "cell_type": "code",
   "execution_count": 589,
   "id": "e5557023",
   "metadata": {},
   "outputs": [
    {
     "data": {
      "text/plain": [
       "0    32\n",
       "Name: Age, dtype: int64"
      ]
     },
     "execution_count": 589,
     "metadata": {},
     "output_type": "execute_result"
    }
   ],
   "source": [
    "# Calculating the mode of a column\n",
    "z = df['Age'].mode()\n",
    "z"
   ]
  },
  {
   "cell_type": "markdown",
   "id": "d4db24f6",
   "metadata": {},
   "source": [
    "##### Explanation\n",
    "1. 𝗠𝗲𝗮𝗻: The mean() function calculates the average value.\n",
    "2. 𝗠𝗲𝗱𝗶𝗮𝗻: The median() function calculates the middle value.\n",
    "3. 𝗠𝗼𝗱𝗲: The mode() function calculates the most frequent value."
   ]
  },
  {
   "cell_type": "code",
   "execution_count": null,
   "id": "ac7c1da2",
   "metadata": {},
   "outputs": [],
   "source": []
  },
  {
   "cell_type": "markdown",
   "id": "bccd51d8",
   "metadata": {},
   "source": [
    "### DataFrame Manipulation\n",
    "\n",
    "#### Modifying DataDescriptive Statistics"
   ]
  },
  {
   "cell_type": "code",
   "execution_count": 590,
   "id": "831a904d",
   "metadata": {},
   "outputs": [
    {
     "data": {
      "text/html": [
       "<div>\n",
       "<style scoped>\n",
       "    .dataframe tbody tr th:only-of-type {\n",
       "        vertical-align: middle;\n",
       "    }\n",
       "\n",
       "    .dataframe tbody tr th {\n",
       "        vertical-align: top;\n",
       "    }\n",
       "\n",
       "    .dataframe thead th {\n",
       "        text-align: right;\n",
       "    }\n",
       "</style>\n",
       "<table border=\"1\" class=\"dataframe\">\n",
       "  <thead>\n",
       "    <tr style=\"text-align: right;\">\n",
       "      <th></th>\n",
       "      <th>CustomerID</th>\n",
       "      <th>Gender</th>\n",
       "      <th>Age</th>\n",
       "      <th>Annual Income (k$)</th>\n",
       "      <th>Spending Score (1-100)</th>\n",
       "    </tr>\n",
       "  </thead>\n",
       "  <tbody>\n",
       "    <tr>\n",
       "      <th>0</th>\n",
       "      <td>1</td>\n",
       "      <td>Male</td>\n",
       "      <td>19</td>\n",
       "      <td>15.0</td>\n",
       "      <td>39.0</td>\n",
       "    </tr>\n",
       "    <tr>\n",
       "      <th>1</th>\n",
       "      <td>2</td>\n",
       "      <td>Male</td>\n",
       "      <td>21</td>\n",
       "      <td>15.0</td>\n",
       "      <td>81.0</td>\n",
       "    </tr>\n",
       "    <tr>\n",
       "      <th>2</th>\n",
       "      <td>3</td>\n",
       "      <td>Female</td>\n",
       "      <td>20</td>\n",
       "      <td>16.0</td>\n",
       "      <td>6.0</td>\n",
       "    </tr>\n",
       "    <tr>\n",
       "      <th>4</th>\n",
       "      <td>5</td>\n",
       "      <td>Female</td>\n",
       "      <td>45</td>\n",
       "      <td>17.0</td>\n",
       "      <td>40.0</td>\n",
       "    </tr>\n",
       "    <tr>\n",
       "      <th>5</th>\n",
       "      <td>6</td>\n",
       "      <td>Female</td>\n",
       "      <td>22</td>\n",
       "      <td>17.0</td>\n",
       "      <td>76.0</td>\n",
       "    </tr>\n",
       "  </tbody>\n",
       "</table>\n",
       "</div>"
      ],
      "text/plain": [
       "   CustomerID  Gender  Age  Annual Income (k$)  Spending Score (1-100)\n",
       "0           1    Male   19                15.0                    39.0\n",
       "1           2    Male   21                15.0                    81.0\n",
       "2           3  Female   20                16.0                     6.0\n",
       "4           5  Female   45                17.0                    40.0\n",
       "5           6  Female   22                17.0                    76.0"
      ]
     },
     "execution_count": 590,
     "metadata": {},
     "output_type": "execute_result"
    }
   ],
   "source": [
    "# Modifying a specific value in the DataFrame\n",
    "df.loc[4, 'Age'] = 45\n",
    "\n",
    "# Printing the modified DataFrame\n",
    "df.head()"
   ]
  },
  {
   "cell_type": "markdown",
   "id": "8260f744",
   "metadata": {},
   "source": [
    "##### Explanation\n",
    "1. 𝗠𝗼𝗱𝗶𝗳𝘆𝗶𝗻𝗴 𝗩𝗮𝗹𝘂𝗲𝘀: You can modify specific values in the DataFrame using .loc."
   ]
  },
  {
   "cell_type": "code",
   "execution_count": null,
   "id": "422b9988",
   "metadata": {},
   "outputs": [],
   "source": []
  },
  {
   "cell_type": "markdown",
   "id": "6a5d7111",
   "metadata": {},
   "source": [
    "#### Checking for Duplicates"
   ]
  },
  {
   "cell_type": "code",
   "execution_count": 591,
   "id": "0c1ef013",
   "metadata": {},
   "outputs": [
    {
     "name": "stdout",
     "output_type": "stream",
     "text": [
      "0      False\n",
      "1      False\n",
      "2      False\n",
      "4      False\n",
      "5      False\n",
      "       ...  \n",
      "195    False\n",
      "196    False\n",
      "197    False\n",
      "198    False\n",
      "199    False\n",
      "Length: 199, dtype: bool\n"
     ]
    }
   ],
   "source": [
    "# Checking for duplicated rows\n",
    "print(df.duplicated())"
   ]
  },
  {
   "cell_type": "markdown",
   "id": "97958b83",
   "metadata": {},
   "source": [
    "##### Explanation\n",
    "1. 𝗗𝘂𝗽𝗹𝗶𝗰𝗮𝘁𝗲 𝗖𝗵𝗲𝗰𝗸: The duplicated() function returns a Boolean Series indicating whether each row is a duplicate."
   ]
  },
  {
   "cell_type": "markdown",
   "id": "d691ac3b",
   "metadata": {},
   "source": [
    "#### Dropping Duplicates"
   ]
  },
  {
   "cell_type": "code",
   "execution_count": 592,
   "id": "de429ff0",
   "metadata": {},
   "outputs": [
    {
     "data": {
      "text/html": [
       "<div>\n",
       "<style scoped>\n",
       "    .dataframe tbody tr th:only-of-type {\n",
       "        vertical-align: middle;\n",
       "    }\n",
       "\n",
       "    .dataframe tbody tr th {\n",
       "        vertical-align: top;\n",
       "    }\n",
       "\n",
       "    .dataframe thead th {\n",
       "        text-align: right;\n",
       "    }\n",
       "</style>\n",
       "<table border=\"1\" class=\"dataframe\">\n",
       "  <thead>\n",
       "    <tr style=\"text-align: right;\">\n",
       "      <th></th>\n",
       "      <th>CustomerID</th>\n",
       "      <th>Gender</th>\n",
       "      <th>Age</th>\n",
       "      <th>Annual Income (k$)</th>\n",
       "      <th>Spending Score (1-100)</th>\n",
       "    </tr>\n",
       "  </thead>\n",
       "  <tbody>\n",
       "    <tr>\n",
       "      <th>0</th>\n",
       "      <td>1</td>\n",
       "      <td>Male</td>\n",
       "      <td>19</td>\n",
       "      <td>15.0</td>\n",
       "      <td>39.0</td>\n",
       "    </tr>\n",
       "    <tr>\n",
       "      <th>1</th>\n",
       "      <td>2</td>\n",
       "      <td>Male</td>\n",
       "      <td>21</td>\n",
       "      <td>15.0</td>\n",
       "      <td>81.0</td>\n",
       "    </tr>\n",
       "    <tr>\n",
       "      <th>2</th>\n",
       "      <td>3</td>\n",
       "      <td>Female</td>\n",
       "      <td>20</td>\n",
       "      <td>16.0</td>\n",
       "      <td>6.0</td>\n",
       "    </tr>\n",
       "    <tr>\n",
       "      <th>4</th>\n",
       "      <td>5</td>\n",
       "      <td>Female</td>\n",
       "      <td>45</td>\n",
       "      <td>17.0</td>\n",
       "      <td>40.0</td>\n",
       "    </tr>\n",
       "    <tr>\n",
       "      <th>5</th>\n",
       "      <td>6</td>\n",
       "      <td>Female</td>\n",
       "      <td>22</td>\n",
       "      <td>17.0</td>\n",
       "      <td>76.0</td>\n",
       "    </tr>\n",
       "    <tr>\n",
       "      <th>...</th>\n",
       "      <td>...</td>\n",
       "      <td>...</td>\n",
       "      <td>...</td>\n",
       "      <td>...</td>\n",
       "      <td>...</td>\n",
       "    </tr>\n",
       "    <tr>\n",
       "      <th>195</th>\n",
       "      <td>196</td>\n",
       "      <td>Female</td>\n",
       "      <td>35</td>\n",
       "      <td>120.0</td>\n",
       "      <td>79.0</td>\n",
       "    </tr>\n",
       "    <tr>\n",
       "      <th>196</th>\n",
       "      <td>197</td>\n",
       "      <td>Female</td>\n",
       "      <td>45</td>\n",
       "      <td>126.0</td>\n",
       "      <td>28.0</td>\n",
       "    </tr>\n",
       "    <tr>\n",
       "      <th>197</th>\n",
       "      <td>198</td>\n",
       "      <td>Male</td>\n",
       "      <td>32</td>\n",
       "      <td>126.0</td>\n",
       "      <td>74.0</td>\n",
       "    </tr>\n",
       "    <tr>\n",
       "      <th>198</th>\n",
       "      <td>199</td>\n",
       "      <td>Male</td>\n",
       "      <td>32</td>\n",
       "      <td>137.0</td>\n",
       "      <td>18.0</td>\n",
       "    </tr>\n",
       "    <tr>\n",
       "      <th>199</th>\n",
       "      <td>200</td>\n",
       "      <td>Male</td>\n",
       "      <td>30</td>\n",
       "      <td>137.0</td>\n",
       "      <td>83.0</td>\n",
       "    </tr>\n",
       "  </tbody>\n",
       "</table>\n",
       "<p>199 rows × 5 columns</p>\n",
       "</div>"
      ],
      "text/plain": [
       "     CustomerID  Gender  Age  Annual Income (k$)  Spending Score (1-100)\n",
       "0             1    Male   19                15.0                    39.0\n",
       "1             2    Male   21                15.0                    81.0\n",
       "2             3  Female   20                16.0                     6.0\n",
       "4             5  Female   45                17.0                    40.0\n",
       "5             6  Female   22                17.0                    76.0\n",
       "..          ...     ...  ...                 ...                     ...\n",
       "195         196  Female   35               120.0                    79.0\n",
       "196         197  Female   45               126.0                    28.0\n",
       "197         198    Male   32               126.0                    74.0\n",
       "198         199    Male   32               137.0                    18.0\n",
       "199         200    Male   30               137.0                    83.0\n",
       "\n",
       "[199 rows x 5 columns]"
      ]
     },
     "execution_count": 592,
     "metadata": {},
     "output_type": "execute_result"
    }
   ],
   "source": [
    "# Dropping duplicate rows\n",
    "df.drop_duplicates(inplace = True)\n",
    "\n",
    "# Printing the DataFrame without duplicates\n",
    "df"
   ]
  },
  {
   "cell_type": "markdown",
   "id": "e957bb91",
   "metadata": {},
   "source": [
    "##### Explanation\n",
    "1. 𝗗𝗿𝗼𝗽𝗽𝗶𝗻𝗴 𝗗𝘂𝗽𝗹𝗶𝗰𝗮𝘁𝗲𝘀: The drop_duplicates() function removes duplicate rows from the DataFrame."
   ]
  },
  {
   "cell_type": "code",
   "execution_count": null,
   "id": "0647a015",
   "metadata": {},
   "outputs": [],
   "source": []
  },
  {
   "cell_type": "markdown",
   "id": "4b3183b1",
   "metadata": {},
   "source": [
    "### Correlation"
   ]
  },
  {
   "cell_type": "code",
   "execution_count": 593,
   "id": "87ee5c82",
   "metadata": {},
   "outputs": [
    {
     "name": "stderr",
     "output_type": "stream",
     "text": [
      "C:\\Users\\santh\\AppData\\Local\\Temp\\ipykernel_15392\\1134722465.py:1: FutureWarning: The default value of numeric_only in DataFrame.corr is deprecated. In a future version, it will default to False. Select only valid columns or specify the value of numeric_only to silence this warning.\n",
      "  df.corr()\n"
     ]
    },
    {
     "data": {
      "text/html": [
       "<div>\n",
       "<style scoped>\n",
       "    .dataframe tbody tr th:only-of-type {\n",
       "        vertical-align: middle;\n",
       "    }\n",
       "\n",
       "    .dataframe tbody tr th {\n",
       "        vertical-align: top;\n",
       "    }\n",
       "\n",
       "    .dataframe thead th {\n",
       "        text-align: right;\n",
       "    }\n",
       "</style>\n",
       "<table border=\"1\" class=\"dataframe\">\n",
       "  <thead>\n",
       "    <tr style=\"text-align: right;\">\n",
       "      <th></th>\n",
       "      <th>CustomerID</th>\n",
       "      <th>Age</th>\n",
       "      <th>Annual Income (k$)</th>\n",
       "      <th>Spending Score (1-100)</th>\n",
       "    </tr>\n",
       "  </thead>\n",
       "  <tbody>\n",
       "    <tr>\n",
       "      <th>CustomerID</th>\n",
       "      <td>1.000000</td>\n",
       "      <td>-0.045149</td>\n",
       "      <td>0.977225</td>\n",
       "      <td>0.022796</td>\n",
       "    </tr>\n",
       "    <tr>\n",
       "      <th>Age</th>\n",
       "      <td>-0.045149</td>\n",
       "      <td>1.000000</td>\n",
       "      <td>-0.030851</td>\n",
       "      <td>-0.325298</td>\n",
       "    </tr>\n",
       "    <tr>\n",
       "      <th>Annual Income (k$)</th>\n",
       "      <td>0.977225</td>\n",
       "      <td>-0.030851</td>\n",
       "      <td>1.000000</td>\n",
       "      <td>0.018985</td>\n",
       "    </tr>\n",
       "    <tr>\n",
       "      <th>Spending Score (1-100)</th>\n",
       "      <td>0.022796</td>\n",
       "      <td>-0.325298</td>\n",
       "      <td>0.018985</td>\n",
       "      <td>1.000000</td>\n",
       "    </tr>\n",
       "  </tbody>\n",
       "</table>\n",
       "</div>"
      ],
      "text/plain": [
       "                        CustomerID       Age  Annual Income (k$)  \\\n",
       "CustomerID                1.000000 -0.045149            0.977225   \n",
       "Age                      -0.045149  1.000000           -0.030851   \n",
       "Annual Income (k$)        0.977225 -0.030851            1.000000   \n",
       "Spending Score (1-100)    0.022796 -0.325298            0.018985   \n",
       "\n",
       "                        Spending Score (1-100)  \n",
       "CustomerID                            0.022796  \n",
       "Age                                  -0.325298  \n",
       "Annual Income (k$)                    0.018985  \n",
       "Spending Score (1-100)                1.000000  "
      ]
     },
     "execution_count": 593,
     "metadata": {},
     "output_type": "execute_result"
    }
   ],
   "source": [
    "df.corr()"
   ]
  },
  {
   "cell_type": "markdown",
   "id": "31220d39",
   "metadata": {},
   "source": [
    "#### Calculating Correlation"
   ]
  },
  {
   "cell_type": "code",
   "execution_count": 594,
   "id": "a3aeaabc",
   "metadata": {},
   "outputs": [
    {
     "data": {
      "text/html": [
       "<div>\n",
       "<style scoped>\n",
       "    .dataframe tbody tr th:only-of-type {\n",
       "        vertical-align: middle;\n",
       "    }\n",
       "\n",
       "    .dataframe tbody tr th {\n",
       "        vertical-align: top;\n",
       "    }\n",
       "\n",
       "    .dataframe thead th {\n",
       "        text-align: right;\n",
       "    }\n",
       "</style>\n",
       "<table border=\"1\" class=\"dataframe\">\n",
       "  <thead>\n",
       "    <tr style=\"text-align: right;\">\n",
       "      <th></th>\n",
       "      <th>CustomerID</th>\n",
       "      <th>Age</th>\n",
       "      <th>Annual Income (k$)</th>\n",
       "      <th>Spending Score (1-100)</th>\n",
       "    </tr>\n",
       "  </thead>\n",
       "  <tbody>\n",
       "    <tr>\n",
       "      <th>CustomerID</th>\n",
       "      <td>1.000000</td>\n",
       "      <td>-0.045149</td>\n",
       "      <td>0.977225</td>\n",
       "      <td>0.022796</td>\n",
       "    </tr>\n",
       "    <tr>\n",
       "      <th>Age</th>\n",
       "      <td>-0.045149</td>\n",
       "      <td>1.000000</td>\n",
       "      <td>-0.030851</td>\n",
       "      <td>-0.325298</td>\n",
       "    </tr>\n",
       "    <tr>\n",
       "      <th>Annual Income (k$)</th>\n",
       "      <td>0.977225</td>\n",
       "      <td>-0.030851</td>\n",
       "      <td>1.000000</td>\n",
       "      <td>0.018985</td>\n",
       "    </tr>\n",
       "    <tr>\n",
       "      <th>Spending Score (1-100)</th>\n",
       "      <td>0.022796</td>\n",
       "      <td>-0.325298</td>\n",
       "      <td>0.018985</td>\n",
       "      <td>1.000000</td>\n",
       "    </tr>\n",
       "  </tbody>\n",
       "</table>\n",
       "</div>"
      ],
      "text/plain": [
       "                        CustomerID       Age  Annual Income (k$)  \\\n",
       "CustomerID                1.000000 -0.045149            0.977225   \n",
       "Age                      -0.045149  1.000000           -0.030851   \n",
       "Annual Income (k$)        0.977225 -0.030851            1.000000   \n",
       "Spending Score (1-100)    0.022796 -0.325298            0.018985   \n",
       "\n",
       "                        Spending Score (1-100)  \n",
       "CustomerID                            0.022796  \n",
       "Age                                  -0.325298  \n",
       "Annual Income (k$)                    0.018985  \n",
       "Spending Score (1-100)                1.000000  "
      ]
     },
     "execution_count": 594,
     "metadata": {},
     "output_type": "execute_result"
    }
   ],
   "source": [
    "# Calculating correlation between columns\n",
    "df.corr(numeric_only = True)"
   ]
  },
  {
   "cell_type": "markdown",
   "id": "38d80760",
   "metadata": {},
   "source": [
    "##### Explanation\n",
    "1. 𝗖𝗼𝗿𝗿𝗲𝗹𝗮𝘁𝗶𝗼𝗻: The corr() function calculates the correlation between numeric columns."
   ]
  },
  {
   "cell_type": "code",
   "execution_count": null,
   "id": "ce6d9f05",
   "metadata": {},
   "outputs": [],
   "source": []
  },
  {
   "cell_type": "markdown",
   "id": "c748b354",
   "metadata": {},
   "source": [
    "### DataFrame Manipulation\n",
    "\n",
    "#### Plotting Data"
   ]
  },
  {
   "cell_type": "code",
   "execution_count": 595,
   "id": "d1cd53ab",
   "metadata": {},
   "outputs": [
    {
     "data": {
      "image/png": "[encoded data removed]",
      "text/plain": [
       "<Figure size 640x480 with 1 Axes>"
      ]
     },
     "metadata": {},
     "output_type": "display_data"
    }
   ],
   "source": [
    "import matplotlib.pyplot as plt\n",
    "\n",
    "# Plotting the DataFrame\n",
    "df.plot()\n",
    "plt.show()"
   ]
  },
  {
   "cell_type": "markdown",
   "id": "7051b653",
   "metadata": {},
   "source": [
    "##### Explanation\n",
    "1. 𝗕𝗮𝘀𝗶𝗰 𝗣𝗹𝗼𝘁: The plot() function creates a basic plot of the DataFrame##### ."
   ]
  },
  {
   "cell_type": "code",
   "execution_count": null,
   "id": "8be42ec5",
   "metadata": {},
   "outputs": [],
   "source": []
  },
  {
   "cell_type": "code",
   "execution_count": 596,
   "id": "2403c82a",
   "metadata": {},
   "outputs": [
    {
     "data": {
      "text/plain": [
       "<function matplotlib.pyplot.show(close=None, block=None)>"
      ]
     },
     "execution_count": 596,
     "metadata": {},
     "output_type": "execute_result"
    },
    {
     "data": {
      "image/png": "[encoded data removed]",
      "text/plain": [
       "<Figure size 640x480 with 1 Axes>"
      ]
     },
     "metadata": {},
     "output_type": "display_data"
    }
   ],
   "source": [
    "# Creating a scatter plot\n",
    "df.plot(kind='scatter', x='Annual Income (k$)', y='Spending Score (1-100)')\n",
    "plt.show"
   ]
  },
  {
   "cell_type": "markdown",
   "id": "938a19ea",
   "metadata": {},
   "source": [
    "##### Explanation\n",
    "1. 𝗦𝗰𝘁𝘁𝗲𝗿 𝗣𝗹𝗼𝘁: The plot() function creates a basic plot of the DataFrame##### ."
   ]
  },
  {
   "cell_type": "code",
   "execution_count": null,
   "id": "b440c574",
   "metadata": {},
   "outputs": [],
   "source": []
  },
  {
   "cell_type": "code",
   "execution_count": 597,
   "id": "ab522b14",
   "metadata": {},
   "outputs": [
    {
     "data": {
      "image/png": "[encoded data removed]",
      "text/plain": [
       "<Figure size 640x480 with 1 Axes>"
      ]
     },
     "metadata": {},
     "output_type": "display_data"
    }
   ],
   "source": [
    "# Creating a histogram\n",
    "df.plot(kind = 'hist', x = 'Annual Income (k$)', y = 'Spending Score (1-100)')\n",
    "plt.show()"
   ]
  },
  {
   "cell_type": "markdown",
   "id": "cceee12b",
   "metadata": {},
   "source": [
    "##### Explanation\n",
    "1. 𝗛𝗶𝘀𝘁𝗼𝗴𝗿𝗮𝗺: The 'kind='hist'' parameter creates a histogram."
   ]
  },
  {
   "cell_type": "code",
   "execution_count": null,
   "id": "d51903d6",
   "metadata": {},
   "outputs": [],
   "source": []
  },
  {
   "cell_type": "code",
   "execution_count": 598,
   "id": "4fff0901",
   "metadata": {},
   "outputs": [
    {
     "data": {
      "image/png": "[encoded data removed]",
      "text/plain": [
       "<Figure size 640x480 with 1 Axes>"
      ]
     },
     "metadata": {},
     "output_type": "display_data"
    }
   ],
   "source": [
    "# Adding title and labels to a plot\n",
    "plt.title(\"Comparison\")\n",
    "plt.xlabel('freq')\n",
    "plt.ylabel('calc')\n",
    "plt.show()"
   ]
  },
  {
   "cell_type": "markdown",
   "id": "0f07afa3",
   "metadata": {},
   "source": [
    "##### Explanation\n",
    "1. 𝗧𝗶𝘁𝗹𝗲 𝗮𝗻𝗱 𝗟𝗮𝗯𝗲𝗹𝘀: The 'kind='hist'' parameter creates a histogram."
   ]
  }
 ],
 "metadata": {
  "kernelspec": {
   "display_name": "Python 3 (ipykernel)",
   "language": "python",
   "name": "python3"
  },
  "language_info": {
   "codemirror_mode": {
    "name": "ipython",
    "version": 3
   },
   "file_extension": ".py",
   "mimetype": "text/x-python",
   "name": "python",
   "nbconvert_exporter": "python",
   "pygments_lexer": "ipython3",
   "version": "3.11.4"
  }
 },
 "nbformat": 4,
 "nbformat_minor": 5
}
