{
 "cells": [
  {
   "cell_type": "code",
   "execution_count": 593,
   "id": "b605ba9d",
   "metadata": {},
   "outputs": [
    {
     "name": "stdout",
     "output_type": "stream",
     "text": [
      "Hello Welcome to Python\n"
     ]
    }
   ],
   "source": [
    "print(\"Hello Welcome to Python\")"
   ]
  },
  {
   "cell_type": "code",
   "execution_count": 594,
   "id": "a69e45f5",
   "metadata": {},
   "outputs": [],
   "source": [
    "#Numbers Data Types in Python\n",
    "\n",
    "x = 4          #int value\n",
    "У = 7.7        #float value  \n",
    "Z = 25j        #complex\n",
    "a = 10 > 9     #Boolean value - True\n",
    "b = 10 < 8     #Boolean value - False"
   ]
  },
  {
   "cell_type": "markdown",
   "id": "7c584e6f",
   "metadata": {},
   "source": [
    "## Datatypes\n",
    "\n",
    "### Integer and Float Datatype"
   ]
  },
  {
   "cell_type": "code",
   "execution_count": 595,
   "id": "5c34b205",
   "metadata": {},
   "outputs": [
    {
     "name": "stdout",
     "output_type": "stream",
     "text": [
      "<class 'int'>\n"
     ]
    }
   ],
   "source": [
    "# Assigning an integer value to variable 'a'\n",
    "a = 5\n",
    "\n",
    "# Printing the type of 'a' to verify it is an integer\n",
    "print(type(a))"
   ]
  },
  {
   "cell_type": "code",
   "execution_count": 596,
   "id": "3cb5f672",
   "metadata": {},
   "outputs": [
    {
     "name": "stdout",
     "output_type": "stream",
     "text": [
      "5\n"
     ]
    }
   ],
   "source": [
    "# Assigning integer values to variables 'x' and 'y'\n",
    "x, y = 3, 2\n",
    "\n",
    "# Printing the result of adding 'x' and 'y'\n",
    "print(x + y)"
   ]
  },
  {
   "cell_type": "code",
   "execution_count": 597,
   "id": "16436e2e",
   "metadata": {},
   "outputs": [
    {
     "name": "stdout",
     "output_type": "stream",
     "text": [
      "Hello + Python\n",
      "HelloPython\n"
     ]
    }
   ],
   "source": [
    "m = 'Hello'\n",
    "n = 'Python'\n",
    "\n",
    "# Concatenating strings with \" + \" in between\n",
    "print(m + \" + \" + n)  # Output: Hello + Python\n",
    "\n",
    "# Concatenating strings without any separator\n",
    "print(m + n)  # Output: HelloPython"
   ]
  },
  {
   "cell_type": "code",
   "execution_count": 598,
   "id": "14a7e584",
   "metadata": {},
   "outputs": [
    {
     "name": "stdout",
     "output_type": "stream",
     "text": [
      "-1.0\n",
      "<class 'float'>\n"
     ]
    }
   ],
   "source": [
    "# Assigning float values to variables 'a' and 'b'\n",
    "a, b = 6.3, 7.3\n",
    "\n",
    "# Printing the result of subtracting 'b' from 'a'\n",
    "print(a - b)\n",
    "\n",
    "# Printing the type of 'a' to verify it is a float\n",
    "print(type(a))"
   ]
  },
  {
   "cell_type": "code",
   "execution_count": 599,
   "id": "bec5b564",
   "metadata": {},
   "outputs": [
    {
     "name": "stdout",
     "output_type": "stream",
     "text": [
      "1\n"
     ]
    }
   ],
   "source": [
    "# Printing the result of integer division (floor division) of 'x' by 'y'\n",
    "print(x // y)"
   ]
  },
  {
   "cell_type": "code",
   "execution_count": 600,
   "id": "6e306e60",
   "metadata": {},
   "outputs": [
    {
     "name": "stdout",
     "output_type": "stream",
     "text": [
      "8\n"
     ]
    }
   ],
   "source": [
    "# Converting a float to an integer and printing the result\n",
    "print(int(8.7))"
   ]
  },
  {
   "cell_type": "code",
   "execution_count": 601,
   "id": "e65d013b",
   "metadata": {},
   "outputs": [
    {
     "name": "stdout",
     "output_type": "stream",
     "text": [
      "7.0\n"
     ]
    }
   ],
   "source": [
    "# Converting an integer to a float and printing the result\n",
    "print(float(7))"
   ]
  },
  {
   "cell_type": "markdown",
   "id": "d4eb46fc",
   "metadata": {},
   "source": [
    "### String Datatype"
   ]
  },
  {
   "cell_type": "code",
   "execution_count": 602,
   "id": "f0caa278",
   "metadata": {},
   "outputs": [
    {
     "name": "stdout",
     "output_type": "stream",
     "text": [
      "i\n"
     ]
    }
   ],
   "source": [
    "# Printing the 8th character (index 7) of the string 's'\n",
    "print(s[7]) "
   ]
  },
  {
   "cell_type": "code",
   "execution_count": 603,
   "id": "33a1b48a",
   "metadata": {},
   "outputs": [
    {
     "name": "stdout",
     "output_type": "stream",
     "text": [
      "ython is\n"
     ]
    }
   ],
   "source": [
    "# Printing a substring from index 1 to 8 (exclusive) of the string 's'\n",
    "print(s[1:9])"
   ]
  },
  {
   "cell_type": "code",
   "execution_count": 604,
   "id": "c6df35c4",
   "metadata": {},
   "outputs": [
    {
     "name": "stdout",
     "output_type": "stream",
     "text": [
      "brarie\n"
     ]
    }
   ],
   "source": [
    "# Printing a substring from the 7th to last character to the 2nd to last character\n",
    "print(s[-7:-1])"
   ]
  },
  {
   "cell_type": "code",
   "execution_count": 605,
   "id": "5ef33690",
   "metadata": {},
   "outputs": [
    {
     "name": "stdout",
     "output_type": "stream",
     "text": [
      "s\n"
     ]
    }
   ],
   "source": [
    "# Printing the last character of the string 's'\n",
    "print(s[-1:])"
   ]
  },
  {
   "cell_type": "code",
   "execution_count": 606,
   "id": "52887b24",
   "metadata": {},
   "outputs": [
    {
     "name": "stdout",
     "output_type": "stream",
     "text": [
      "Python is rich in librarie\n"
     ]
    }
   ],
   "source": [
    "# Printing the string 's' excluding the last character\n",
    "print(s[:-1]) "
   ]
  },
  {
   "cell_type": "code",
   "execution_count": 607,
   "id": "843a9447",
   "metadata": {},
   "outputs": [
    {
     "name": "stdout",
     "output_type": "stream",
     "text": [
      "seirarbil ni hcir si nohtyP\n"
     ]
    }
   ],
   "source": [
    "# Reversing the string 's'\n",
    "print(s[::-1])"
   ]
  },
  {
   "cell_type": "code",
   "execution_count": 608,
   "id": "c989269c",
   "metadata": {},
   "outputs": [
    {
     "name": "stdout",
     "output_type": "stream",
     "text": [
      "i am happy\n"
     ]
    }
   ],
   "source": [
    "# Removing white space from the beginning and end of the string 'y'\n",
    "y = \"i am happy\\t\\n\"\n",
    "print(y.strip())"
   ]
  },
  {
   "cell_type": "code",
   "execution_count": 609,
   "id": "fd39b6e0",
   "metadata": {},
   "outputs": [
    {
     "name": "stdout",
     "output_type": "stream",
     "text": [
      "False\n"
     ]
    }
   ],
   "source": [
    "# Checking if the string \"GARAGE\" starts with the substring \"big\"\n",
    "print(\"GARAGE\".startswith(\"big\"))"
   ]
  },
  {
   "cell_type": "code",
   "execution_count": 610,
   "id": "97d18b0a",
   "metadata": {},
   "outputs": [
    {
     "name": "stdout",
     "output_type": "stream",
     "text": [
      "False\n"
     ]
    }
   ],
   "source": [
    "# Checking if the string \"GARAGE\" starts with the substring \"gar\" (case-sensitive)\n",
    "print(\"GARAGE\".startswith(\"gar\"))"
   ]
  },
  {
   "cell_type": "code",
   "execution_count": 611,
   "id": "e3a5556e",
   "metadata": {},
   "outputs": [
    {
     "name": "stdout",
     "output_type": "stream",
     "text": [
      "True\n"
     ]
    }
   ],
   "source": [
    "# Checking if the string \"GARAGE\" starts with the substring \"GAR\"\n",
    "print(\"GARAGE\".startswith(\"GAR\")) "
   ]
  },
  {
   "cell_type": "code",
   "execution_count": 612,
   "id": "6e89eea2",
   "metadata": {},
   "outputs": [
    {
     "name": "stdout",
     "output_type": "stream",
     "text": [
      "0\n"
     ]
    }
   ],
   "source": [
    "# Finding the starting index of the substring \"GAR\" in the string \"GARAGE\"\n",
    "print(\"GARAGE\".find(\"GAR\"))"
   ]
  },
  {
   "cell_type": "code",
   "execution_count": 613,
   "id": "9c8bdea8",
   "metadata": {},
   "outputs": [
    {
     "name": "stdout",
     "output_type": "stream",
     "text": [
      "1\n"
     ]
    }
   ],
   "source": [
    "# Finding the starting index of the substring \"AR\" in the string \"GARAGE\"\n",
    "print(\"GARAGE\".find(\"AR\"))"
   ]
  },
  {
   "cell_type": "code",
   "execution_count": 614,
   "id": "a157f1ac",
   "metadata": {},
   "outputs": [
    {
     "name": "stdout",
     "output_type": "stream",
     "text": [
      "CHRAGE\n"
     ]
    }
   ],
   "source": [
    "# Replacing the substring \"GA\" with \"CH\" in the string \"GARAGE\"\n",
    "print(\"GARAGE\".replace(\"GA\", \"CH\"))"
   ]
  },
  {
   "cell_type": "code",
   "execution_count": 615,
   "id": "6b31cf01",
   "metadata": {},
   "outputs": [
    {
     "name": "stdout",
     "output_type": "stream",
     "text": [
      "22\n"
     ]
    }
   ],
   "source": [
    "# Assigning a new string to the variable 'a'\n",
    "a = \"Python is a high-level\"\n",
    "\n",
    "# Printing the length of the string 'a'\n",
    "print(len(a))"
   ]
  },
  {
   "cell_type": "markdown",
   "id": "bf3b0238",
   "metadata": {},
   "source": [
    "### Boolean Datatype"
   ]
  },
  {
   "cell_type": "code",
   "execution_count": 616,
   "id": "6d882d2d",
   "metadata": {},
   "outputs": [
    {
     "name": "stdout",
     "output_type": "stream",
     "text": [
      "False\n"
     ]
    }
   ],
   "source": [
    "# Comparing if 4 is greater than 6, which is False\n",
    "print(4 > 6)"
   ]
  },
  {
   "cell_type": "code",
   "execution_count": 617,
   "id": "c40a6a35",
   "metadata": {},
   "outputs": [
    {
     "name": "stdout",
     "output_type": "stream",
     "text": [
      "True\n"
     ]
    }
   ],
   "source": [
    "# Checking if 3 is less than 7 AND 2 is greater than 1\n",
    "print(3 < 7 and 2 > 1)"
   ]
  },
  {
   "cell_type": "code",
   "execution_count": 618,
   "id": "5e490d90",
   "metadata": {},
   "outputs": [
    {
     "name": "stdout",
     "output_type": "stream",
     "text": [
      "True\n",
      "False\n",
      "False\n",
      "False\n"
     ]
    }
   ],
   "source": [
    "# Logical AND operation between True and True\n",
    "print(True and True)  # Output: True\n",
    "\n",
    "# Logical AND operation between True and False\n",
    "print(True and False)  # Output: False\n",
    "\n",
    "# Logical AND operation between False and True\n",
    "print(False and True)  # Output: False\n",
    "\n",
    "# Logical AND operation between False and False\n",
    "print(False and False)  # Output: False\n"
   ]
  },
  {
   "cell_type": "code",
   "execution_count": 619,
   "id": "e60653b7",
   "metadata": {},
   "outputs": [
    {
     "name": "stdout",
     "output_type": "stream",
     "text": [
      "True\n",
      "True\n",
      "True\n",
      "False\n"
     ]
    }
   ],
   "source": [
    "# Logical OR operation between True and True\n",
    "print(True or True)  # Output: True\n",
    "\n",
    "# Logical OR operation between True and False\n",
    "print(True or False)  # Output: True\n",
    "\n",
    "# Logical OR operation between False and True\n",
    "print(False or True)  # Output: True\n",
    "\n",
    "# Logical OR operation between False and False\n",
    "print(False or False)  # Output: False\n"
   ]
  },
  {
   "cell_type": "markdown",
   "id": "438fa529",
   "metadata": {},
   "source": [
    "### Sequence Type \n",
    "#### 1. List\n",
    "\n",
    "1. **Definition**: An ordered, mutable collection of items.\n",
    "2. **Syntax**: Defined using square brackets `[]`.\n",
    "3. **Example**: `my_list = [1, 2, 3, 'hello', 3.14]`\n",
    "4. **Mutability**: Lists can be modified after creation (e.g., items can be added, removed, or changed).\n",
    "5. **Indexing**: Lists support indexing, slicing, and various methods (e.g., `.append()`, `.remove()`).\n",
    "6. **Duplicates**: Lists can contain duplicate elements."
   ]
  },
  {
   "cell_type": "code",
   "execution_count": 620,
   "id": "6a77b81d",
   "metadata": {},
   "outputs": [
    {
     "data": {
      "text/plain": [
       "[7, 8, 9, 'cat', 9.9]"
      ]
     },
     "execution_count": 620,
     "metadata": {},
     "output_type": "execute_result"
    }
   ],
   "source": [
    "# Printing the list L\n",
    "L"
   ]
  },
  {
   "cell_type": "code",
   "execution_count": 621,
   "id": "3ddd6557",
   "metadata": {},
   "outputs": [],
   "source": [
    "# Creating a list with mixed data types: integers, a string, and a float\n",
    "L = [7, 8, 9, 'cat', 9.9]\n",
    "\n",
    "# Creating another list with integers\n",
    "L1 = [1, 2, 3, 4, 5]\n"
   ]
  },
  {
   "cell_type": "code",
   "execution_count": 622,
   "id": "ace5f884",
   "metadata": {},
   "outputs": [
    {
     "name": "stdout",
     "output_type": "stream",
     "text": [
      "<class 'list'>\n"
     ]
    }
   ],
   "source": [
    "# Printing the type of L1 to verify it is also a list\n",
    "print(type(L1))"
   ]
  },
  {
   "cell_type": "code",
   "execution_count": 623,
   "id": "409f2762",
   "metadata": {},
   "outputs": [
    {
     "name": "stdout",
     "output_type": "stream",
     "text": [
      "<class 'list'>\n"
     ]
    }
   ],
   "source": [
    "# Printing the type of L to verify it is a list\n",
    "print(type(L))"
   ]
  },
  {
   "cell_type": "code",
   "execution_count": 624,
   "id": "06082251",
   "metadata": {},
   "outputs": [
    {
     "name": "stdout",
     "output_type": "stream",
     "text": [
      "[7, 8, 9, 'cat']\n"
     ]
    }
   ],
   "source": [
    "# Slicing the list L: printing from the beginning to the second last element\n",
    "print(L[0:-1])  # List is mutable"
   ]
  },
  {
   "cell_type": "code",
   "execution_count": 625,
   "id": "57cec562",
   "metadata": {},
   "outputs": [
    {
     "name": "stdout",
     "output_type": "stream",
     "text": [
      "[1, 2, 3, 4, 9, 8, 1, 5, 8, 9, 6]\n"
     ]
    }
   ],
   "source": [
    "# Adding two lists (concatenation)\n",
    "l2 = [1, 5, 8, 9, 6]\n",
    "l1 = [1, 2, 3, 4, 9, 8]\n",
    "print(l1+l2)"
   ]
  },
  {
   "cell_type": "code",
   "execution_count": 626,
   "id": "223052fc",
   "metadata": {},
   "outputs": [
    {
     "name": "stdout",
     "output_type": "stream",
     "text": [
      "[1, 2, 3, 4, 9, 8, 1, 2, 3, 4, 9, 8, 1, 2, 3, 4, 9, 8, 1, 2, 3, 4, 9, 8]\n"
     ]
    }
   ],
   "source": [
    "# Repeating a list 4 times\n",
    "print(l1 * 4)"
   ]
  },
  {
   "cell_type": "code",
   "execution_count": 627,
   "id": "e1778c38",
   "metadata": {},
   "outputs": [
    {
     "name": "stdout",
     "output_type": "stream",
     "text": [
      "1\n",
      "2\n",
      "3\n",
      "4\n",
      "9\n",
      "8\n"
     ]
    }
   ],
   "source": [
    "# Iterating through list l1 and printing each element\n",
    "for i in l1:\n",
    "    print(i)"
   ]
  },
  {
   "cell_type": "code",
   "execution_count": 628,
   "id": "766e1483",
   "metadata": {},
   "outputs": [
    {
     "data": {
      "text/plain": [
       "[1, 2, 3, 4, 9, 8]"
      ]
     },
     "execution_count": 628,
     "metadata": {},
     "output_type": "execute_result"
    }
   ],
   "source": [
    "# Converting list l1 to a list (this step is redundant)\n",
    "list(l1)"
   ]
  },
  {
   "cell_type": "code",
   "execution_count": 629,
   "id": "5c1a433e",
   "metadata": {},
   "outputs": [
    {
     "name": "stdout",
     "output_type": "stream",
     "text": [
      "[1, 100, 2, 3, 4, 5]\n"
     ]
    }
   ],
   "source": [
    "L1 = [1, 2, 3, 4, 5]\n",
    "\n",
    "# Inserting 100 at index 1\n",
    "L1.insert(1, 100)\n",
    "\n",
    "# Printing the modified list\n",
    "print(L1)"
   ]
  },
  {
   "cell_type": "code",
   "execution_count": 630,
   "id": "b5d1ad7a",
   "metadata": {},
   "outputs": [
    {
     "name": "stdout",
     "output_type": "stream",
     "text": [
      "[2, 3, 4]\n"
     ]
    }
   ],
   "source": [
    "L1 = [1, 100, 2, 3, 4, 5]\n",
    "\n",
    "# Slicing the list from index 2 to 5\n",
    "c = L1[2:5]\n",
    "\n",
    "# Printing the sliced list\n",
    "print(c)\n"
   ]
  },
  {
   "cell_type": "code",
   "execution_count": 631,
   "id": "f9ef6867",
   "metadata": {},
   "outputs": [
    {
     "name": "stdout",
     "output_type": "stream",
     "text": [
      "[1, 2, 31, 6, 9, 7]\n"
     ]
    }
   ],
   "source": [
    "# Program to remove duplicate elements from a list\n",
    "l3 = [1, 2, 31, 6, 9, 7, 9, 6, 6, 7]\n",
    "l4 = []\n",
    "for i in l3:\n",
    "    if i not in l4:\n",
    "        l4.append(i)\n",
    "print(l4)"
   ]
  },
  {
   "cell_type": "markdown",
   "id": "56aaf226",
   "metadata": {},
   "source": [
    "#### 2. Tuples\n",
    "\n",
    "1. **Definition**: An ordered, immutable collection of items.\n",
    "2. **Syntax**: Defined using parentheses `()`.\n",
    "3. **Example**: `my_tuple = (1, 2, 3, 'hello', 3.14)`\n",
    "4. **Mutability**: Tuples cannot be modified after creation (e.g., items cannot be added, removed, or changed).\n",
    "5. **Indexing**: Tuples support indexing and slicing.\n",
    "6. **Duplicates**: Tuples can contain duplicate elements."
   ]
  },
  {
   "cell_type": "code",
   "execution_count": 632,
   "id": "33bbc84c",
   "metadata": {},
   "outputs": [
    {
     "name": "stdout",
     "output_type": "stream",
     "text": [
      "(3, 5, 7, 5, 4)\n"
     ]
    }
   ],
   "source": [
    "t = (3, 5, 7, 5, 4)\n",
    "print(t)"
   ]
  },
  {
   "cell_type": "code",
   "execution_count": 633,
   "id": "4d1d8c4d",
   "metadata": {},
   "outputs": [
    {
     "ename": "AttributeError",
     "evalue": "'tuple' object has no attribute 'append'",
     "output_type": "error",
     "traceback": [
      "\u001b[1;31m---------------------------------------------------------------------------\u001b[0m",
      "\u001b[1;31mAttributeError\u001b[0m                            Traceback (most recent call last)",
      "Cell \u001b[1;32mIn[633], line 1\u001b[0m\n\u001b[1;32m----> 1\u001b[0m t\u001b[38;5;241m.\u001b[39mappend(t)\n",
      "\u001b[1;31mAttributeError\u001b[0m: 'tuple' object has no attribute 'append'"
     ]
    }
   ],
   "source": [
    "t.append(t)"
   ]
  },
  {
   "cell_type": "code",
   "execution_count": 634,
   "id": "2431ab50",
   "metadata": {},
   "outputs": [
    {
     "name": "stdout",
     "output_type": "stream",
     "text": [
      "<class 'tuple'>\n"
     ]
    }
   ],
   "source": [
    "print(type(t))"
   ]
  },
  {
   "cell_type": "markdown",
   "id": "1e9b8bd8",
   "metadata": {},
   "source": [
    "#### 3. Sets\n",
    "\n",
    "1. **Definition**: An unordered collection of unique items.\n",
    "2. **Syntax**: Defined using curly braces `{}` or the `set()` constructor.\n",
    "3. **Example**: `my_set = {1, 2, 3, 'hello', 3.14}`\n",
    "4. **Mutability**: Sets are mutable; items can be added or removed, but the order is not guaranteed.\n",
    "5. **Indexing**: Sets do not support indexing, slicing, or other sequence-like behavior.\n",
    "6. **Duplicates**: Sets automatically remove duplicate elements and do not allow duplicates."
   ]
  },
  {
   "cell_type": "code",
   "execution_count": 635,
   "id": "b82046ce",
   "metadata": {},
   "outputs": [
    {
     "name": "stdout",
     "output_type": "stream",
     "text": [
      "{4, 5, 'Thrusday', 8, 'Monday', 'Saturday', 'Friday', 'Wednesday', 'Tuesday'}\n"
     ]
    }
   ],
   "source": [
    "Days = {\"Monday\", \"Tuesday\", \"Wednesday\", \"Thrusday\", \"Friday\", \"Saturday\", \"Friday\", 5, 8, 4}\n",
    "print(Days)"
   ]
  },
  {
   "cell_type": "code",
   "execution_count": 636,
   "id": "96a614e3",
   "metadata": {},
   "outputs": [
    {
     "name": "stdout",
     "output_type": "stream",
     "text": [
      "{0, 'hi', 6}\n"
     ]
    }
   ],
   "source": [
    "d = {'hi', 6, 0}\n",
    "print(d)"
   ]
  },
  {
   "cell_type": "code",
   "execution_count": 637,
   "id": "c7fe2424",
   "metadata": {},
   "outputs": [
    {
     "ename": "TypeError",
     "evalue": "'set' object is not subscriptable",
     "output_type": "error",
     "traceback": [
      "\u001b[1;31m---------------------------------------------------------------------------\u001b[0m",
      "\u001b[1;31mTypeError\u001b[0m                                 Traceback (most recent call last)",
      "Cell \u001b[1;32mIn[637], line 1\u001b[0m\n\u001b[1;32m----> 1\u001b[0m \u001b[38;5;28mprint\u001b[39m(Days[\u001b[38;5;241m1\u001b[39m])\n",
      "\u001b[1;31mTypeError\u001b[0m: 'set' object is not subscriptable"
     ]
    }
   ],
   "source": [
    "print(Days[1])"
   ]
  },
  {
   "cell_type": "code",
   "execution_count": 638,
   "id": "4545c116",
   "metadata": {},
   "outputs": [
    {
     "name": "stdout",
     "output_type": "stream",
     "text": [
      "4\n",
      "5\n",
      "Thrusday\n",
      "8\n",
      "Monday\n",
      "Saturday\n",
      "Friday\n",
      "Wednesday\n",
      "Tuesday\n"
     ]
    }
   ],
   "source": [
    "for i in Days:\n",
    "    print(i)"
   ]
  },
  {
   "cell_type": "code",
   "execution_count": 639,
   "id": "d1052d89",
   "metadata": {},
   "outputs": [
    {
     "name": "stdout",
     "output_type": "stream",
     "text": [
      "<class 'set'>\n"
     ]
    }
   ],
   "source": [
    "print(type(Days))"
   ]
  },
  {
   "cell_type": "code",
   "execution_count": 640,
   "id": "3c303ca7",
   "metadata": {},
   "outputs": [
    {
     "name": "stdout",
     "output_type": "stream",
     "text": [
      "{0, 4, 5, 'Thrusday', 6, 8, 'hi', 'Monday', 'Saturday', 'Friday', 'Wednesday', 'Tuesday'}\n"
     ]
    }
   ],
   "source": [
    "print(Days.union(d))"
   ]
  },
  {
   "cell_type": "code",
   "execution_count": 641,
   "id": "120b02f8",
   "metadata": {},
   "outputs": [
    {
     "name": "stdout",
     "output_type": "stream",
     "text": [
      "set()\n"
     ]
    }
   ],
   "source": [
    "print(Days.intersection(d))"
   ]
  },
  {
   "cell_type": "code",
   "execution_count": 642,
   "id": "ea81364b",
   "metadata": {},
   "outputs": [
    {
     "name": "stdout",
     "output_type": "stream",
     "text": [
      "{0, 'hi', 3, 6}\n"
     ]
    }
   ],
   "source": [
    "d.add(3)\n",
    "print(d)"
   ]
  },
  {
   "cell_type": "markdown",
   "id": "f973249c",
   "metadata": {},
   "source": [
    "#### Dictionaries\n",
    "1. **Definition:** Unordered collection of key-value pairs.\n",
    "2. **Syntax:** Defined using curly braces `{ }`, with key-value pairs separated by colons (`:`).\n",
    "3. **Mutability:** Dictionaries are mutable; you can add, remove, or change key-value pairs.\n",
    "4. **Key Uniqueness:** Keys must be unique and immutable (strings, numbers, or tuples)."
   ]
  },
  {
   "cell_type": "code",
   "execution_count": 643,
   "id": "f4cc3595",
   "metadata": {},
   "outputs": [
    {
     "name": "stdout",
     "output_type": "stream",
     "text": [
      "{'car1': 'Maruti', 'car2': 'Ford', 'car3': 'BMW'}\n"
     ]
    }
   ],
   "source": [
    "# Creating a dictionary with car models\n",
    "cars = {'car1' : 'Maruti', 'car2' : 'Ford', 'car3' : 'BMW'}\n",
    "\n",
    "# Printing the entire dictionary\n",
    "print(cars)"
   ]
  },
  {
   "cell_type": "code",
   "execution_count": 644,
   "id": "67be0ec4",
   "metadata": {},
   "outputs": [
    {
     "name": "stdout",
     "output_type": "stream",
     "text": [
      "BMW\n"
     ]
    }
   ],
   "source": [
    "# Accessing the value associated with the key 'car3'\n",
    "g = cars['car3']\n",
    "print(g)"
   ]
  },
  {
   "cell_type": "code",
   "execution_count": 645,
   "id": "11f81887",
   "metadata": {},
   "outputs": [
    {
     "name": "stdout",
     "output_type": "stream",
     "text": [
      "Ford\n"
     ]
    }
   ],
   "source": [
    "# Using the get method to access the value associated with the key 'car2'\n",
    "print(cars.get('car2'))"
   ]
  },
  {
   "cell_type": "code",
   "execution_count": 646,
   "id": "83f38da0",
   "metadata": {},
   "outputs": [
    {
     "name": "stdout",
     "output_type": "stream",
     "text": [
      "{'car1': 'Audi', 'car2': 'Ford', 'car3': 'BMW'}\n"
     ]
    }
   ],
   "source": [
    "# Updating the value associated with the key 'car1'\n",
    "cars['car1'] = 'Audi'\n",
    "print(cars)"
   ]
  },
  {
   "cell_type": "code",
   "execution_count": 647,
   "id": "5eecc9d0",
   "metadata": {},
   "outputs": [
    {
     "name": "stdout",
     "output_type": "stream",
     "text": [
      "<class 'dict'>\n"
     ]
    }
   ],
   "source": [
    "# Printing the type of the dictionary\n",
    "print(type(cars))"
   ]
  },
  {
   "cell_type": "code",
   "execution_count": 648,
   "id": "75e117e8",
   "metadata": {},
   "outputs": [
    {
     "name": "stdout",
     "output_type": "stream",
     "text": [
      "Audi\n"
     ]
    }
   ],
   "source": [
    "# Accessing the updated value associated with the key 'car1'\n",
    "print(cars['car1'])"
   ]
  },
  {
   "cell_type": "code",
   "execution_count": 649,
   "id": "15aeb0bf",
   "metadata": {},
   "outputs": [
    {
     "name": "stdout",
     "output_type": "stream",
     "text": [
      "{'car1': 'Audi', 'car3': 'BMW'}\n"
     ]
    }
   ],
   "source": [
    "# Deleting the key-value pair with the key 'car2'\n",
    "del cars['car2']\n",
    "print(cars)"
   ]
  },
  {
   "cell_type": "markdown",
   "id": "0737d4b1",
   "metadata": {},
   "source": [
    "### List comprehension "
   ]
  },
  {
   "cell_type": "code",
   "execution_count": 650,
   "id": "ed5d936f",
   "metadata": {},
   "outputs": [
    {
     "name": "stdout",
     "output_type": "stream",
     "text": [
      "[0, 0, 2]\n"
     ]
    }
   ],
   "source": [
    "# Initialize variables x and y\n",
    "x = 5\n",
    "y = 4\n",
    "\n",
    "# List comprehension with nested loops and a condition\n",
    "l = [x * y for x in range(3) for y in range(3) if x > y]\n",
    "\n",
    "# Printing the resulting list\n",
    "print(l)  # Output: [0, 0, 2]"
   ]
  }
 ],
 "metadata": {
  "kernelspec": {
   "display_name": "Python 3 (ipykernel)",
   "language": "python",
   "name": "python3"
  },
  "language_info": {
   "codemirror_mode": {
    "name": "ipython",
    "version": 3
   },
   "file_extension": ".py",
   "mimetype": "text/x-python",
   "name": "python",
   "nbconvert_exporter": "python",
   "pygments_lexer": "ipython3",
   "version": "3.11.4"
  }
 },
 "nbformat": 4,
 "nbformat_minor": 5
}
