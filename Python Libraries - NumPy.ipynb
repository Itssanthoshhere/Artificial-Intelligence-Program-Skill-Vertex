{
 "cells": [
  {
   "cell_type": "markdown",
   "id": "076a5154",
   "metadata": {},
   "source": [
    "### NumPy Library: Working with Arrays\n",
    "###### Importing NumPy and Creating Arrays"
   ]
  },
  {
   "cell_type": "code",
   "execution_count": 409,
   "id": "92087dd8",
   "metadata": {},
   "outputs": [],
   "source": [
    "import numpy as np"
   ]
  },
  {
   "cell_type": "code",
   "execution_count": 410,
   "id": "1dee52e1",
   "metadata": {},
   "outputs": [
    {
     "name": "stdout",
     "output_type": "stream",
     "text": [
      "[9 5 6 7 3]\n"
     ]
    }
   ],
   "source": [
    "# Creating a list and converting it to a NumPy array\n",
    "L = [1, 2, 3, 4, 5]\n",
    "arr = np.array([9, 5, 6, 7, 3])\n",
    "print(arr)"
   ]
  },
  {
   "cell_type": "markdown",
   "id": "97b95f68",
   "metadata": {},
   "source": [
    "###### Checking the Type and Dimensions"
   ]
  },
  {
   "cell_type": "code",
   "execution_count": 411,
   "id": "a70a1423",
   "metadata": {},
   "outputs": [
    {
     "name": "stdout",
     "output_type": "stream",
     "text": [
      "<class 'numpy.ndarray'>\n"
     ]
    }
   ],
   "source": [
    "print(type(arr))"
   ]
  },
  {
   "cell_type": "code",
   "execution_count": 412,
   "id": "c6bd2b70",
   "metadata": {},
   "outputs": [
    {
     "data": {
      "text/plain": [
       "1"
      ]
     },
     "execution_count": 412,
     "metadata": {},
     "output_type": "execute_result"
    }
   ],
   "source": [
    "arr.ndim"
   ]
  },
  {
   "cell_type": "markdown",
   "id": "20f31d44",
   "metadata": {},
   "source": [
    "###### Creating and Printing a 2D Array"
   ]
  },
  {
   "cell_type": "code",
   "execution_count": 413,
   "id": "bde01dde",
   "metadata": {},
   "outputs": [
    {
     "name": "stdout",
     "output_type": "stream",
     "text": [
      "[[4 5 6 7]\n",
      " [9 8 7 6]]\n"
     ]
    }
   ],
   "source": [
    "arr1 = np.array([[4,5,6,7],[9,8,7,6]])\n",
    "print(arr1)"
   ]
  },
  {
   "cell_type": "code",
   "execution_count": 414,
   "id": "a323e5c5",
   "metadata": {},
   "outputs": [
    {
     "data": {
      "text/plain": [
       "2"
      ]
     },
     "execution_count": 414,
     "metadata": {},
     "output_type": "execute_result"
    }
   ],
   "source": [
    "arr1.ndim"
   ]
  },
  {
   "cell_type": "markdown",
   "id": "705ff75f",
   "metadata": {},
   "source": [
    "###### Creating and Printing a 3D Array\n"
   ]
  },
  {
   "cell_type": "code",
   "execution_count": 415,
   "id": "5fd062a8",
   "metadata": {},
   "outputs": [
    {
     "name": "stdout",
     "output_type": "stream",
     "text": [
      "[[[7 8 9]\n",
      "  [9 0 1]]\n",
      "\n",
      " [[9 0 1]\n",
      "  [9 5 6]]]\n"
     ]
    }
   ],
   "source": [
    "arr2 = np.array([[[7,8,9],[9,0,1]],[[9,0,1],[9,5,6]]])\n",
    "print(arr2)"
   ]
  },
  {
   "cell_type": "code",
   "execution_count": 416,
   "id": "b4b825ac",
   "metadata": {},
   "outputs": [
    {
     "name": "stdout",
     "output_type": "stream",
     "text": [
      "3\n"
     ]
    }
   ],
   "source": [
    "print(arr2.ndim)"
   ]
  },
  {
   "cell_type": "markdown",
   "id": "d9c1c358",
   "metadata": {},
   "source": [
    "###### Creating and Printing a 4D Array\n"
   ]
  },
  {
   "cell_type": "code",
   "execution_count": 417,
   "id": "fce68a44",
   "metadata": {},
   "outputs": [
    {
     "name": "stdout",
     "output_type": "stream",
     "text": [
      "[[[7 8 9]\n",
      "  [9 0 1]]\n",
      "\n",
      " [[9 0 1]\n",
      "  [9 5 6]]]\n"
     ]
    }
   ],
   "source": [
    "import numpy as np\n",
    "\n",
    "# Creating a 3-dimensional array\n",
    "arr2 = np.array([\n",
    "    [\n",
    "        [7, 8, 9],\n",
    "        [9, 0, 1]\n",
    "    ],\n",
    "    [\n",
    "        [9, 0, 1],\n",
    "        [9, 5, 6]\n",
    "    ]\n",
    "])\n",
    "\n",
    "# Printing the array\n",
    "print(arr2)"
   ]
  },
  {
   "cell_type": "code",
   "execution_count": 418,
   "id": "1fa8bbbe",
   "metadata": {},
   "outputs": [
    {
     "data": {
      "text/plain": [
       "3"
      ]
     },
     "execution_count": 418,
     "metadata": {},
     "output_type": "execute_result"
    }
   ],
   "source": [
    "arr2.ndim"
   ]
  },
  {
   "cell_type": "code",
   "execution_count": 419,
   "id": "0088380b",
   "metadata": {},
   "outputs": [
    {
     "name": "stdout",
     "output_type": "stream",
     "text": [
      "[[[[7 8 9]\n",
      "   [9 0 1]]\n",
      "\n",
      "  [[9 0 1]\n",
      "   [9 5 6]]\n",
      "\n",
      "  [[9 0 1]\n",
      "   [9 5 6]]]]\n"
     ]
    }
   ],
   "source": [
    "arr3 = np.array([[[[7,8,9],[9,0,1]],[[9,0,1],[9,5,6]],[[9,0,1],[9,5,6]]]])\n",
    "print(arr3)"
   ]
  },
  {
   "cell_type": "code",
   "execution_count": 420,
   "id": "4ba8b883",
   "metadata": {},
   "outputs": [
    {
     "data": {
      "text/plain": [
       "4"
      ]
     },
     "execution_count": 420,
     "metadata": {},
     "output_type": "execute_result"
    }
   ],
   "source": [
    "arr3.ndim"
   ]
  },
  {
   "cell_type": "markdown",
   "id": "7d1d6da5",
   "metadata": {},
   "source": [
    "###### Accessing a Specific Element"
   ]
  },
  {
   "cell_type": "code",
   "execution_count": 421,
   "id": "2888f2fb",
   "metadata": {},
   "outputs": [
    {
     "name": "stdout",
     "output_type": "stream",
     "text": [
      "1\n"
     ]
    }
   ],
   "source": [
    "                                                                                                                                                                \"\"\"\n",
    "Accessing a Specific Element:\n",
    "   - `arr2[1, 0, 2]` accesses a specific element in the 3D array.\n",
    "     - The first index `1` selects the second block (since indexing starts at 0).\n",
    "     - The second index `0` selects the first row within that block.\n",
    "     - The third index `2` selects the third element within that row.\n",
    "                                                                                                                                                                \"\"\"\n",
    "\n",
    "# Creating a 3-dimensional array\n",
    "arr2 = np.array([[[7, 8, 9], [9, 0, 1]], [[9, 0, 1], [9, 5, 6]]])\n",
    "\n",
    "# Printing a specific element from the array\n",
    "print(arr2[1, 0, 2])"
   ]
  },
  {
   "cell_type": "markdown",
   "id": "fd4b75de",
   "metadata": {},
   "source": [
    "###### Converting List and Tuple to NumPy Arrays\n"
   ]
  },
  {
   "cell_type": "code",
   "execution_count": 422,
   "id": "b1750068",
   "metadata": {},
   "outputs": [
    {
     "name": "stdout",
     "output_type": "stream",
     "text": [
      "[2 3 4 5]\n"
     ]
    }
   ],
   "source": [
    "list = [2,3,4,5]\n",
    "a = np.array(list)\n",
    "print(a)"
   ]
  },
  {
   "cell_type": "code",
   "execution_count": 423,
   "id": "de693af8",
   "metadata": {},
   "outputs": [
    {
     "name": "stdout",
     "output_type": "stream",
     "text": [
      "[9 8 7 6]\n"
     ]
    }
   ],
   "source": [
    "tuple = (9,8,7,6)\n",
    "b = np.array(tuple)\n",
    "print(b)"
   ]
  },
  {
   "cell_type": "markdown",
   "id": "386af55e",
   "metadata": {},
   "source": [
    "###### Creating Ranges and Linearly Spaced Arrays"
   ]
  },
  {
   "cell_type": "code",
   "execution_count": 424,
   "id": "e8d5fe81",
   "metadata": {},
   "outputs": [
    {
     "data": {
      "text/plain": [
       "array([ 0,  1,  2,  3,  4,  5,  6,  7,  8,  9, 10, 11, 12, 13, 14])"
      ]
     },
     "execution_count": 424,
     "metadata": {},
     "output_type": "execute_result"
    }
   ],
   "source": [
    "# Creating an array with a range of values\n",
    "arr = np.arange(15)\n",
    "arr"
   ]
  },
  {
   "cell_type": "code",
   "execution_count": 425,
   "id": "51214936",
   "metadata": {},
   "outputs": [
    {
     "data": {
      "text/plain": [
       "array([  1,   2,   3,   4,   5,   6,   7,   8,   9,  10,  11,  12,  13,\n",
       "        14,  15,  16,  17,  18,  19,  20,  21,  22,  23,  24,  25,  26,\n",
       "        27,  28,  29,  30,  31,  32,  33,  34,  35,  36,  37,  38,  39,\n",
       "        40,  41,  42,  43,  44,  45,  46,  47,  48,  49,  50,  51,  52,\n",
       "        53,  54,  55,  56,  57,  58,  59,  60,  61,  62,  63,  64,  65,\n",
       "        66,  67,  68,  69,  70,  71,  72,  73,  74,  75,  76,  77,  78,\n",
       "        79,  80,  81,  82,  83,  84,  85,  86,  87,  88,  89,  90,  91,\n",
       "        92,  93,  94,  95,  96,  97,  98,  99, 100])"
      ]
     },
     "execution_count": 425,
     "metadata": {},
     "output_type": "execute_result"
    }
   ],
   "source": [
    "# Creating an array with a range of values from 1 to 100\n",
    "arr = np.arange(1,101)\n",
    "arr"
   ]
  },
  {
   "cell_type": "code",
   "execution_count": 426,
   "id": "f676f297",
   "metadata": {},
   "outputs": [
    {
     "data": {
      "text/plain": [
       "array([10.        , 10.6122449 , 11.2244898 , 11.83673469, 12.44897959,\n",
       "       13.06122449, 13.67346939, 14.28571429, 14.89795918, 15.51020408,\n",
       "       16.12244898, 16.73469388, 17.34693878, 17.95918367, 18.57142857,\n",
       "       19.18367347, 19.79591837, 20.40816327, 21.02040816, 21.63265306,\n",
       "       22.24489796, 22.85714286, 23.46938776, 24.08163265, 24.69387755,\n",
       "       25.30612245, 25.91836735, 26.53061224, 27.14285714, 27.75510204,\n",
       "       28.36734694, 28.97959184, 29.59183673, 30.20408163, 30.81632653,\n",
       "       31.42857143, 32.04081633, 32.65306122, 33.26530612, 33.87755102,\n",
       "       34.48979592, 35.10204082, 35.71428571, 36.32653061, 36.93877551,\n",
       "       37.55102041, 38.16326531, 38.7755102 , 39.3877551 , 40.        ])"
      ]
     },
     "execution_count": 426,
     "metadata": {},
     "output_type": "execute_result"
    }
   ],
   "source": [
    "# Creating an array with linearly spaced values between 10 and 40\n",
    "c = np.linspace(10,40)\n",
    "c"
   ]
  },
  {
   "cell_type": "markdown",
   "id": "c7223d19",
   "metadata": {},
   "source": [
    "###### Creating Arrays with Zeros and Ones"
   ]
  },
  {
   "cell_type": "code",
   "execution_count": 427,
   "id": "f3bb1851",
   "metadata": {},
   "outputs": [
    {
     "name": "stdout",
     "output_type": "stream",
     "text": [
      "[0. 0. 0. 0. 0. 0.]\n"
     ]
    }
   ],
   "source": [
    "# Creating an array filled with zeros\n",
    "d = np.zeros(6)\n",
    "print(d)"
   ]
  },
  {
   "cell_type": "code",
   "execution_count": 428,
   "id": "2ff39760",
   "metadata": {},
   "outputs": [
    {
     "name": "stdout",
     "output_type": "stream",
     "text": [
      "[1. 1. 1. 1. 1. 1. 1.]\n"
     ]
    }
   ],
   "source": [
    "# Creating an array filled with ones\n",
    "e = np.ones(7)\n",
    "print(e)"
   ]
  },
  {
   "cell_type": "code",
   "execution_count": 429,
   "id": "1dc5ac41",
   "metadata": {},
   "outputs": [
    {
     "name": "stdout",
     "output_type": "stream",
     "text": [
      "[[0. 0. 0. 0. 0.]\n",
      " [0. 0. 0. 0. 0.]\n",
      " [0. 0. 0. 0. 0.]\n",
      " [0. 0. 0. 0. 0.]\n",
      " [0. 0. 0. 0. 0.]\n",
      " [0. 0. 0. 0. 0.]\n",
      " [0. 0. 0. 0. 0.]\n",
      " [0. 0. 0. 0. 0.]\n",
      " [0. 0. 0. 0. 0.]]\n"
     ]
    }
   ],
   "source": [
    "# Creating an array filled with zeros of the same shape as arr5\n",
    "arr5 = np.array([9,5])\n",
    "d = np.zeros(arr5)\n",
    "print(d)"
   ]
  },
  {
   "cell_type": "code",
   "execution_count": 430,
   "id": "2645931e",
   "metadata": {
    "scrolled": false
   },
   "outputs": [
    {
     "name": "stdout",
     "output_type": "stream",
     "text": [
      "[[1. 1. 1. 1. 1.]\n",
      " [1. 1. 1. 1. 1.]\n",
      " [1. 1. 1. 1. 1.]\n",
      " [1. 1. 1. 1. 1.]\n",
      " [1. 1. 1. 1. 1.]\n",
      " [1. 1. 1. 1. 1.]\n",
      " [1. 1. 1. 1. 1.]\n",
      " [1. 1. 1. 1. 1.]\n",
      " [1. 1. 1. 1. 1.]]\n"
     ]
    }
   ],
   "source": [
    "# Creating an array filled with ones of the same shape as arr5\n",
    "arr5 = np.array([9,5])\n",
    "d = np.ones(arr5)\n",
    "print(d)"
   ]
  },
  {
   "cell_type": "markdown",
   "id": "f1931f32",
   "metadata": {},
   "source": [
    "###### Creating a NumPy Array Filled with a Specific Value\n"
   ]
  },
  {
   "cell_type": "code",
   "execution_count": 431,
   "id": "a199c02f",
   "metadata": {},
   "outputs": [
    {
     "name": "stdout",
     "output_type": "stream",
     "text": [
      "[8 8 8 8 8]\n"
     ]
    }
   ],
   "source": [
    "# Creating an array arr5\n",
    "arr5 = np.array([9, 5, 4, 7, 3])\n",
    "\n",
    "# Creating an array arr6 of the same shape as arr5, filled with the value 8\n",
    "arr6 = np.full(arr5.shape, 8)\n",
    "\n",
    "# Printing the array arr6\n",
    "print(arr6)\n"
   ]
  },
  {
   "cell_type": "code",
   "execution_count": 432,
   "id": "1d262178",
   "metadata": {},
   "outputs": [
    {
     "data": {
      "text/plain": [
       "1"
      ]
     },
     "execution_count": 432,
     "metadata": {},
     "output_type": "execute_result"
    }
   ],
   "source": [
    "# Checking the number of dimensions\n",
    "arr6.ndim"
   ]
  },
  {
   "cell_type": "markdown",
   "id": "4e63f7f2",
   "metadata": {},
   "source": [
    "###### Shape of Arrays\n"
   ]
  },
  {
   "cell_type": "code",
   "execution_count": 433,
   "id": "61650ae3",
   "metadata": {},
   "outputs": [
    {
     "data": {
      "text/plain": [
       "(1, 3)"
      ]
     },
     "execution_count": 433,
     "metadata": {},
     "output_type": "execute_result"
    }
   ],
   "source": [
    "# Creating a 2D array and checking its shape\n",
    "g = np.array([[4,5,6]])\n",
    "g.shape"
   ]
  },
  {
   "cell_type": "code",
   "execution_count": 434,
   "id": "185504a6",
   "metadata": {},
   "outputs": [
    {
     "data": {
      "text/plain": [
       "(2, 3)"
      ]
     },
     "execution_count": 434,
     "metadata": {},
     "output_type": "execute_result"
    }
   ],
   "source": [
    "h = np.array([[4,5,6],[9,1,2]])\n",
    "h.shape"
   ]
  },
  {
   "cell_type": "markdown",
   "id": "a4aa0c86",
   "metadata": {},
   "source": [
    "###### Sorting an Array\n"
   ]
  },
  {
   "cell_type": "code",
   "execution_count": 435,
   "id": "df6d30cb",
   "metadata": {},
   "outputs": [
    {
     "data": {
      "text/plain": [
       "array([[4, 5, 6],\n",
       "       [1, 2, 9]])"
      ]
     },
     "execution_count": 435,
     "metadata": {},
     "output_type": "execute_result"
    }
   ],
   "source": [
    "# Sorting the array\n",
    "arr1 = np.sort(h)\n",
    "arr1"
   ]
  },
  {
   "cell_type": "markdown",
   "id": "3ded4bdb",
   "metadata": {},
   "source": [
    "###### Performing Element-wise Operations\n"
   ]
  },
  {
   "cell_type": "code",
   "execution_count": 436,
   "id": "bb3e5973",
   "metadata": {},
   "outputs": [
    {
     "data": {
      "text/plain": [
       "array([14,  9,  4, 12,  6])"
      ]
     },
     "execution_count": 436,
     "metadata": {},
     "output_type": "execute_result"
    }
   ],
   "source": [
    "u = np.array([6,7,0,3,5])\n",
    "v = np.array([8,2,4,9,1])\n",
    "\n",
    "# Adding arrays element-wise\n",
    "np.add(u,v)"
   ]
  },
  {
   "cell_type": "code",
   "execution_count": 437,
   "id": "8f331c51",
   "metadata": {},
   "outputs": [
    {
     "data": {
      "text/plain": [
       "array([-2,  5, -4, -6,  4])"
      ]
     },
     "execution_count": 437,
     "metadata": {},
     "output_type": "execute_result"
    }
   ],
   "source": [
    "u = np.array([6,7,0,3,5])\n",
    "v = np.array([8,2,4,9,1])\n",
    "\n",
    "# Subtracting arrays element-wise\n",
    "np.subtract(u,v)"
   ]
  },
  {
   "cell_type": "markdown",
   "id": "337f57ec",
   "metadata": {},
   "source": [
    "###### Comparison Operations\n"
   ]
  },
  {
   "cell_type": "code",
   "execution_count": 438,
   "id": "83e07eca",
   "metadata": {},
   "outputs": [
    {
     "data": {
      "text/plain": [
       "array([False, False, False, False, False])"
      ]
     },
     "execution_count": 438,
     "metadata": {},
     "output_type": "execute_result"
    }
   ],
   "source": [
    "# Element-wise comparison: equality\n",
    "u == v"
   ]
  },
  {
   "cell_type": "code",
   "execution_count": 439,
   "id": "e6f6b50c",
   "metadata": {},
   "outputs": [
    {
     "data": {
      "text/plain": [
       "array([ True,  True,  True,  True,  True])"
      ]
     },
     "execution_count": 439,
     "metadata": {},
     "output_type": "execute_result"
    }
   ],
   "source": [
    "# Element-wise comparison: inequality\n",
    "u != v"
   ]
  },
  {
   "cell_type": "code",
   "execution_count": 440,
   "id": "a1796184",
   "metadata": {},
   "outputs": [
    {
     "data": {
      "text/plain": [
       "array([9, 7, 0, 3, 5])"
      ]
     },
     "execution_count": 440,
     "metadata": {},
     "output_type": "execute_result"
    }
   ],
   "source": [
    "# Modifying elements in the array\n",
    "u[0] = 9\n",
    "u"
   ]
  },
  {
   "cell_type": "markdown",
   "id": "e02baae9",
   "metadata": {},
   "source": [
    "###### Modifying elements in the array\n"
   ]
  },
  {
   "cell_type": "code",
   "execution_count": 441,
   "id": "1b7a793b",
   "metadata": {},
   "outputs": [
    {
     "name": "stdout",
     "output_type": "stream",
     "text": [
      "Copied Array:  [8 2 3 4 5 6]\n",
      "Original Array:  [1 2 3 4 5 6]\n"
     ]
    }
   ],
   "source": [
    "# Creating an array and making a copy\n",
    "arr9 = np.array([1,2,3,4,5,6])\n",
    "x = arr9.copy()\n",
    "\n",
    "# Modifying the original array\n",
    "arr9[0] = 8\n",
    "\n",
    "# Printing both arrays to show that the copy is not affected\n",
    "print(\"Copied Array: \", arr9)  \n",
    "\n",
    "print(\"Original Array: \", x)"
   ]
  },
  {
   "cell_type": "code",
   "execution_count": 442,
   "id": "80e11649",
   "metadata": {},
   "outputs": [
    {
     "name": "stdout",
     "output_type": "stream",
     "text": [
      "[8 7 3 4 5 6]\n",
      "[8 7 3 4 5 6]\n"
     ]
    }
   ],
   "source": [
    "# Creating a view of the array\n",
    "y = arr9.view()\n",
    "\n",
    "# Modifying the original array\n",
    "arr9[1] = 7\n",
    "\n",
    "# Printing both arrays to show that the view is affected\n",
    "print(arr9)\n",
    "print(y)"
   ]
  },
  {
   "cell_type": "markdown",
   "id": "c624e2f5",
   "metadata": {},
   "source": [
    "###### Reshaping Arrays\n"
   ]
  },
  {
   "cell_type": "code",
   "execution_count": 443,
   "id": "1e9da7ce",
   "metadata": {},
   "outputs": [
    {
     "data": {
      "text/plain": [
       "array([[ 1,  2,  3,  4,  5],\n",
       "       [ 6,  7,  8,  9, 10]])"
      ]
     },
     "execution_count": 443,
     "metadata": {},
     "output_type": "execute_result"
    }
   ],
   "source": [
    "# Reshaping an array to 2 rows and 5 columns\n",
    "n = np.array([1,2,3,4,5,6,7,8,9,10])\n",
    "n.reshape(2, 5)"
   ]
  },
  {
   "cell_type": "code",
   "execution_count": 444,
   "id": "08d17b85",
   "metadata": {},
   "outputs": [
    {
     "data": {
      "text/plain": [
       "array([[ 1,  2],\n",
       "       [ 3,  4],\n",
       "       [ 5,  6],\n",
       "       [ 7,  8],\n",
       "       [ 9, 10]])"
      ]
     },
     "execution_count": 444,
     "metadata": {},
     "output_type": "execute_result"
    }
   ],
   "source": [
    "# Reshaping an array to 5 rows and 2 columns\n",
    "n = np.array([1,2,3,4,5,6,7,8,9,10])\n",
    "n.reshape(5,2)"
   ]
  },
  {
   "cell_type": "code",
   "execution_count": 445,
   "id": "03a3cbc0",
   "metadata": {},
   "outputs": [
    {
     "data": {
      "text/plain": [
       "array([[ 1,  2,  3,  4,  5,  6,  7,  8,  9, 10]])"
      ]
     },
     "execution_count": 445,
     "metadata": {},
     "output_type": "execute_result"
    }
   ],
   "source": [
    "# Reshaping an array to 1 row and 10 columns\n",
    "n = np.array([1,2,3,4,5,6,7,8,9,10])\n",
    "n.reshape(1, 10)"
   ]
  },
  {
   "cell_type": "code",
   "execution_count": 446,
   "id": "1503b9cf",
   "metadata": {},
   "outputs": [
    {
     "data": {
      "text/plain": [
       "array([[ 1,  2,  3],\n",
       "       [ 2,  5,  6],\n",
       "       [ 7,  5,  9],\n",
       "       [10,  4, 32]])"
      ]
     },
     "execution_count": 446,
     "metadata": {},
     "output_type": "execute_result"
    }
   ],
   "source": [
    "# Reshaping an array to 4 rows and 3 columns\n",
    "n = np.array([1,2,3,2,5,6,7,5,9,10,4,32])\n",
    "n.reshape(4, 3)"
   ]
  },
  {
   "cell_type": "markdown",
   "id": "58b2a76c",
   "metadata": {},
   "source": [
    "###### Slicing Arrays\n"
   ]
  },
  {
   "cell_type": "code",
   "execution_count": 447,
   "id": "b1fb1f71",
   "metadata": {},
   "outputs": [
    {
     "name": "stdout",
     "output_type": "stream",
     "text": [
      "[ 1  2  3  2  5  6  7  5  9 10  4]\n"
     ]
    }
   ],
   "source": [
    "# Slicing to get all elements except the last one\n",
    "print(n[:-1])"
   ]
  },
  {
   "cell_type": "code",
   "execution_count": 448,
   "id": "5a7a71f3",
   "metadata": {},
   "outputs": [
    {
     "name": "stdout",
     "output_type": "stream",
     "text": [
      "[2 3]\n"
     ]
    }
   ],
   "source": [
    "# Slicing to get elements from index 1 to 2 (3rd element excluded)\n",
    "print(n[1:3])"
   ]
  },
  {
   "cell_type": "code",
   "execution_count": 449,
   "id": "14bfa4e2",
   "metadata": {},
   "outputs": [
    {
     "name": "stdout",
     "output_type": "stream",
     "text": [
      "[2 2]\n"
     ]
    }
   ],
   "source": [
    "# Slicing with step to get every second element from index 1 to 4 (5th element excluded)\n",
    "print(n[1:5:2])"
   ]
  }
 ],
 "metadata": {
  "kernelspec": {
   "display_name": "Python 3 (ipykernel)",
   "language": "python",
   "name": "python3"
  },
  "language_info": {
   "codemirror_mode": {
    "name": "ipython",
    "version": 3
   },
   "file_extension": ".py",
   "mimetype": "text/x-python",
   "name": "python",
   "nbconvert_exporter": "python",
   "pygments_lexer": "ipython3",
   "version": "3.11.4"
  }
 },
 "nbformat": 4,
 "nbformat_minor": 5
}
