{
 "cells": [
  {
   "cell_type": "markdown",
   "id": "2bdc8cea",
   "metadata": {},
   "source": [
    "### 🖼️ Image Processing with OpenCV: Display, Save, Grayscale Conversion, and Watermark Removal 🛠️"
   ]
  },
  {
   "cell_type": "code",
   "execution_count": 16,
   "id": "021aa894",
   "metadata": {},
   "outputs": [],
   "source": [
    "# Import the OpenCV library\n",
    "import cv2"
   ]
  },
  {
   "cell_type": "markdown",
   "id": "443f1266",
   "metadata": {},
   "source": [
    "#### 1. Displaying an image"
   ]
  },
  {
   "cell_type": "code",
   "execution_count": 17,
   "id": "cbd1f6bb",
   "metadata": {},
   "outputs": [],
   "source": [
    "import cv2  # Import the OpenCV library\n",
    "\n",
    "# Read the image from a file\n",
    "img = cv2.imread(\"car.jpeg\")\n",
    "\n",
    "# Display the image in a window\n",
    "cv2.imshow('image', img)\n",
    "\n",
    "# Wait for a key press indefinitely or for a specified amount of time\n",
    "cv2.waitKey(0)  # 0 means wait indefinitely\n",
    "\n",
    "# Close the image window\n",
    "cv2.destroyAllWindows()\n"
   ]
  },
  {
   "cell_type": "markdown",
   "id": "eedff84e",
   "metadata": {},
   "source": [
    "#### 2. Saving an image"
   ]
  },
  {
   "cell_type": "code",
   "execution_count": 18,
   "id": "d943d0e8",
   "metadata": {},
   "outputs": [
    {
     "name": "stdout",
     "output_type": "stream",
     "text": [
      "True\n"
     ]
    }
   ],
   "source": [
    "import cv2  # Import the OpenCV library\n",
    "\n",
    "# Read the image from a file\n",
    "img = cv2.imread(\"car.jpeg\")\n",
    "\n",
    "# Save the image to a file\n",
    "st = cv2.imwrite('car.jpeg', img)\n",
    "\n",
    "# Print the status of the write operation\n",
    "print(st)  # True if the image was saved successfully, False otherwise\n"
   ]
  },
  {
   "cell_type": "markdown",
   "id": "cb89f012",
   "metadata": {},
   "source": [
    "#### 3. Converting an image to grayscale"
   ]
  },
  {
   "cell_type": "code",
   "execution_count": 23,
   "id": "308ec650",
   "metadata": {},
   "outputs": [],
   "source": [
    "import cv2  # Import the OpenCV library\n",
    "\n",
    "# Read the image from a file\n",
    "img = cv2.imread(\"car.jpeg\")\n",
    "\n",
    "# Convert the image to grayscale\n",
    "s = cv2.cvtColor(img, cv2.COLOR_BGR2GRAY)\n",
    "\n",
    "# Display the grayscale image in a window\n",
    "cv2.imshow('image', s)\n",
    "\n",
    "# Wait for a key press indefinitely or for a specified amount of time\n",
    "cv2.waitKey()\n",
    "\n",
    "# Close the image window\n",
    "cv2.destroyAllWindows()"
   ]
  },
  {
   "cell_type": "markdown",
   "id": "d3e929dd",
   "metadata": {},
   "source": [
    "#### 4. Removing a watermark using inpainting with the INPAINT_TELEA method"
   ]
  },
  {
   "cell_type": "code",
   "execution_count": 20,
   "id": "0fd6e0f8",
   "metadata": {},
   "outputs": [],
   "source": [
    "import cv2  # Import the OpenCV library\n",
    "import numpy as np  # Import NumPy for numerical operations\n",
    "\n",
    "# Read the image from a file\n",
    "img = cv2.imread(\"watermark.jpg\")\n",
    "\n",
    "# Convert the image from BGR (Blue, Green, Red) color space to HSV (Hue, Saturation, Value)\n",
    "s = cv2.cvtColor(img, cv2.COLOR_BGR2HSV)\n",
    "\n",
    "# Define the lower and upper bounds for the mask in HSV space\n",
    "# l represents the lower bound (for light areas close to white), and b represents the upper bound\n",
    "l = np.array([0, 0, 220])\n",
    "b = np.array([255, 255, 255])\n",
    "\n",
    "# Create a binary mask where the white areas are within the specified bounds\n",
    "mask = cv2.inRange(s, l, b)\n",
    "\n",
    "# Use inpainting to remove the watermark. The function fills in the area where the mask is white.\n",
    "# The value '5' represents the inpainting radius, and INPAINT_TELEA is the algorithm used.\n",
    "res = cv2.inpaint(img, mask, 5, cv2.INPAINT_TELEA)\n",
    "\n",
    "# Display the resulting image after inpainting\n",
    "cv2.imshow('image', res)\n",
    "\n",
    "# Wait for a key press indefinitely to keep the window open\n",
    "cv2.waitKey()\n",
    "\n",
    "# Close the image window\n",
    "cv2.destroyAllWindows()"
   ]
  },
  {
   "cell_type": "markdown",
   "id": "5ce5ed3a",
   "metadata": {},
   "source": [
    "#### 5. Removing a watermark using inpainting with the INPAINT_NS method"
   ]
  },
  {
   "cell_type": "code",
   "execution_count": 21,
   "id": "4d8851e8",
   "metadata": {},
   "outputs": [],
   "source": [
    "# Use inpainting to remove the watermark. The function fills in the area where the mask is white.\n",
    "# The value '5' represents the inpainting radius, and INPAINT_NS is the algorithm used (Navier-Stokes based).\n",
    "res = cv2.inpaint(img, mask, 5, cv2.INPAINT_NS)\n",
    "\n",
    "# Display the resulting image after inpainting\n",
    "cv2.imshow('image', res)\n",
    "\n",
    "# Wait for a key press indefinitely to keep the window open\n",
    "cv2.waitKey()\n",
    "\n",
    "# Close the image window\n",
    "cv2.destroyAllWindows()"
   ]
  }
 ],
 "metadata": {
  "kernelspec": {
   "display_name": "Python 3 (ipykernel)",
   "language": "python",
   "name": "python3"
  },
  "language_info": {
   "codemirror_mode": {
    "name": "ipython",
    "version": 3
   },
   "file_extension": ".py",
   "mimetype": "text/x-python",
   "name": "python",
   "nbconvert_exporter": "python",
   "pygments_lexer": "ipython3",
   "version": "3.11.4"
  }
 },
 "nbformat": 4,
 "nbformat_minor": 5
}
